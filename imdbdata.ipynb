{
 "cells": [
  {
   "cell_type": "code",
   "execution_count": 1,
   "id": "0da4b4de-ee71-4c23-92f4-ef4dce57152e",
   "metadata": {},
   "outputs": [],
   "source": [
    "import numpy as np \n",
    "import pandas as pd \n",
    "import matplotlib.pyplot as plt # visualizing data\n",
    "%matplotlib inline\n",
    "import seaborn as sns"
   ]
  },
  {
   "cell_type": "code",
   "execution_count": 2,
   "id": "8a2d88b4-9041-4330-8141-9eafac7a6af2",
   "metadata": {
    "tags": []
   },
   "outputs": [],
   "source": [
    "# Read the first TSV file into a DataFrame\n",
    "df1 = pd.read_csv('ratings.tsv', sep='\\t')\n",
    "\n"
   ]
  },
  {
   "cell_type": "code",
   "execution_count": 3,
   "id": "c8782e96-124e-4df2-b991-ccbe252bc0a3",
   "metadata": {
    "tags": []
   },
   "outputs": [
    {
     "data": {
      "text/plain": [
       "(1048575, 3)"
      ]
     },
     "execution_count": 3,
     "metadata": {},
     "output_type": "execute_result"
    }
   ],
   "source": [
    "df1.shape"
   ]
  },
  {
   "cell_type": "code",
   "execution_count": 4,
   "id": "1d44ede5-cf46-4d86-a07c-449a48f61c0f",
   "metadata": {
    "tags": []
   },
   "outputs": [
    {
     "data": {
      "text/html": [
       "<div>\n",
       "<style scoped>\n",
       "    .dataframe tbody tr th:only-of-type {\n",
       "        vertical-align: middle;\n",
       "    }\n",
       "\n",
       "    .dataframe tbody tr th {\n",
       "        vertical-align: top;\n",
       "    }\n",
       "\n",
       "    .dataframe thead th {\n",
       "        text-align: right;\n",
       "    }\n",
       "</style>\n",
       "<table border=\"1\" class=\"dataframe\">\n",
       "  <thead>\n",
       "    <tr style=\"text-align: right;\">\n",
       "      <th></th>\n",
       "      <th>tconst</th>\n",
       "      <th>averageRating</th>\n",
       "      <th>numVotes</th>\n",
       "    </tr>\n",
       "  </thead>\n",
       "  <tbody>\n",
       "    <tr>\n",
       "      <th>0</th>\n",
       "      <td>tt0000001</td>\n",
       "      <td>5.7</td>\n",
       "      <td>1977</td>\n",
       "    </tr>\n",
       "    <tr>\n",
       "      <th>1</th>\n",
       "      <td>tt0000002</td>\n",
       "      <td>5.8</td>\n",
       "      <td>264</td>\n",
       "    </tr>\n",
       "    <tr>\n",
       "      <th>2</th>\n",
       "      <td>tt0000003</td>\n",
       "      <td>6.5</td>\n",
       "      <td>1829</td>\n",
       "    </tr>\n",
       "    <tr>\n",
       "      <th>3</th>\n",
       "      <td>tt0000004</td>\n",
       "      <td>5.6</td>\n",
       "      <td>179</td>\n",
       "    </tr>\n",
       "    <tr>\n",
       "      <th>4</th>\n",
       "      <td>tt0000005</td>\n",
       "      <td>6.2</td>\n",
       "      <td>2620</td>\n",
       "    </tr>\n",
       "  </tbody>\n",
       "</table>\n",
       "</div>"
      ],
      "text/plain": [
       "      tconst  averageRating  numVotes\n",
       "0  tt0000001            5.7      1977\n",
       "1  tt0000002            5.8       264\n",
       "2  tt0000003            6.5      1829\n",
       "3  tt0000004            5.6       179\n",
       "4  tt0000005            6.2      2620"
      ]
     },
     "execution_count": 4,
     "metadata": {},
     "output_type": "execute_result"
    }
   ],
   "source": [
    "\n",
    "df1.head()"
   ]
  },
  {
   "cell_type": "code",
   "execution_count": 5,
   "id": "47dedffb-dcb4-4ca3-bb2c-5af1d3254417",
   "metadata": {
    "tags": []
   },
   "outputs": [],
   "source": [
    "# Sort the first DataFrame based on the 'rating' column in descending order\n",
    "df1 = df1.sort_values(by='averageRating', ascending=False)\n"
   ]
  },
  {
   "cell_type": "code",
   "execution_count": 6,
   "id": "a6ca4292-a6d7-445c-aa5f-3483adc5dad2",
   "metadata": {
    "tags": []
   },
   "outputs": [
    {
     "data": {
      "text/html": [
       "<div>\n",
       "<style scoped>\n",
       "    .dataframe tbody tr th:only-of-type {\n",
       "        vertical-align: middle;\n",
       "    }\n",
       "\n",
       "    .dataframe tbody tr th {\n",
       "        vertical-align: top;\n",
       "    }\n",
       "\n",
       "    .dataframe thead th {\n",
       "        text-align: right;\n",
       "    }\n",
       "</style>\n",
       "<table border=\"1\" class=\"dataframe\">\n",
       "  <thead>\n",
       "    <tr style=\"text-align: right;\">\n",
       "      <th></th>\n",
       "      <th>tconst</th>\n",
       "      <th>averageRating</th>\n",
       "      <th>numVotes</th>\n",
       "    </tr>\n",
       "  </thead>\n",
       "  <tbody>\n",
       "    <tr>\n",
       "      <th>825308</th>\n",
       "      <td>tt1997020</td>\n",
       "      <td>10.0</td>\n",
       "      <td>40</td>\n",
       "    </tr>\n",
       "    <tr>\n",
       "      <th>962862</th>\n",
       "      <td>tt3006024</td>\n",
       "      <td>10.0</td>\n",
       "      <td>5</td>\n",
       "    </tr>\n",
       "    <tr>\n",
       "      <th>429782</th>\n",
       "      <td>tt0924727</td>\n",
       "      <td>10.0</td>\n",
       "      <td>31</td>\n",
       "    </tr>\n",
       "    <tr>\n",
       "      <th>830900</th>\n",
       "      <td>tt2026403</td>\n",
       "      <td>10.0</td>\n",
       "      <td>24</td>\n",
       "    </tr>\n",
       "    <tr>\n",
       "      <th>830844</th>\n",
       "      <td>tt20258840</td>\n",
       "      <td>10.0</td>\n",
       "      <td>9</td>\n",
       "    </tr>\n",
       "  </tbody>\n",
       "</table>\n",
       "</div>"
      ],
      "text/plain": [
       "            tconst  averageRating  numVotes\n",
       "825308   tt1997020           10.0        40\n",
       "962862   tt3006024           10.0         5\n",
       "429782   tt0924727           10.0        31\n",
       "830900   tt2026403           10.0        24\n",
       "830844  tt20258840           10.0         9"
      ]
     },
     "execution_count": 6,
     "metadata": {},
     "output_type": "execute_result"
    }
   ],
   "source": [
    "df1.head()"
   ]
  },
  {
   "cell_type": "code",
   "execution_count": 7,
   "id": "7c4599b3-324c-4d0c-9390-331d8af8ea55",
   "metadata": {
    "tags": []
   },
   "outputs": [
    {
     "name": "stdout",
     "output_type": "stream",
     "text": [
      "Total null values in averageRating column: 0\n"
     ]
    }
   ],
   "source": [
    "# Count the number of null values in the 'averageRating' column\n",
    "null_count = df1['averageRating'].isnull().sum()\n",
    "\n",
    "# Display the total number of null values\n",
    "print(\"Total null values in averageRating column:\", null_count)"
   ]
  },
  {
   "cell_type": "code",
   "execution_count": 8,
   "id": "93e13350-194b-486f-87fe-7b8194893b17",
   "metadata": {
    "tags": []
   },
   "outputs": [],
   "source": [
    "# Read the Second TSV file into a DataFrame\n",
    "df2 = pd.read_csv('basics.tsv',sep='\\t', dtype={4: str})"
   ]
  },
  {
   "cell_type": "code",
   "execution_count": 9,
   "id": "72f30381-96fe-4060-8ed1-c4d8f769b26d",
   "metadata": {
    "tags": []
   },
   "outputs": [
    {
     "data": {
      "text/plain": [
       "(9902807, 9)"
      ]
     },
     "execution_count": 9,
     "metadata": {},
     "output_type": "execute_result"
    }
   ],
   "source": [
    "df2.shape"
   ]
  },
  {
   "cell_type": "code",
   "execution_count": 10,
   "id": "2f4a6373-11d1-47a0-aabb-8b08e30219ac",
   "metadata": {
    "tags": []
   },
   "outputs": [],
   "source": [
    "\n",
    "df2 = pd.read_csv('basics.tsv',sep='\\t', dtype={4: str})\n",
    "df2 = df2.merge(df1[['tconst']], on='tconst', how='left').sort_values(by='tconst')\n",
    "df2 = df2.merge(df1, on='tconst', how='left')\n",
    "\n",
    "df2.to_csv('updated_file2.tsv', sep='\\t', index=False)"
   ]
  },
  {
   "cell_type": "code",
   "execution_count": 11,
   "id": "3ae00a50-37f9-419e-bcde-c4c38d7b4f68",
   "metadata": {
    "tags": []
   },
   "outputs": [
    {
     "data": {
      "text/plain": [
       "(9902807, 11)"
      ]
     },
     "execution_count": 11,
     "metadata": {},
     "output_type": "execute_result"
    }
   ],
   "source": [
    "df2.shape"
   ]
  },
  {
   "cell_type": "code",
   "execution_count": 12,
   "id": "dde9cb67-4965-4c4f-9018-5ef719e054f8",
   "metadata": {
    "tags": []
   },
   "outputs": [
    {
     "data": {
      "text/html": [
       "<div>\n",
       "<style scoped>\n",
       "    .dataframe tbody tr th:only-of-type {\n",
       "        vertical-align: middle;\n",
       "    }\n",
       "\n",
       "    .dataframe tbody tr th {\n",
       "        vertical-align: top;\n",
       "    }\n",
       "\n",
       "    .dataframe thead th {\n",
       "        text-align: right;\n",
       "    }\n",
       "</style>\n",
       "<table border=\"1\" class=\"dataframe\">\n",
       "  <thead>\n",
       "    <tr style=\"text-align: right;\">\n",
       "      <th></th>\n",
       "      <th>tconst</th>\n",
       "      <th>titleType</th>\n",
       "      <th>primaryTitle</th>\n",
       "      <th>originalTitle</th>\n",
       "      <th>isAdult</th>\n",
       "      <th>startYear</th>\n",
       "      <th>endYear</th>\n",
       "      <th>runtimeMinutes</th>\n",
       "      <th>genres</th>\n",
       "      <th>averageRating</th>\n",
       "      <th>numVotes</th>\n",
       "    </tr>\n",
       "  </thead>\n",
       "  <tbody>\n",
       "    <tr>\n",
       "      <th>0</th>\n",
       "      <td>tt0000001</td>\n",
       "      <td>short</td>\n",
       "      <td>Carmencita</td>\n",
       "      <td>Carmencita</td>\n",
       "      <td>0</td>\n",
       "      <td>1894</td>\n",
       "      <td>\\N</td>\n",
       "      <td>1</td>\n",
       "      <td>Documentary,Short</td>\n",
       "      <td>5.7</td>\n",
       "      <td>1977.0</td>\n",
       "    </tr>\n",
       "    <tr>\n",
       "      <th>1</th>\n",
       "      <td>tt0000002</td>\n",
       "      <td>short</td>\n",
       "      <td>Le clown et ses chiens</td>\n",
       "      <td>Le clown et ses chiens</td>\n",
       "      <td>0</td>\n",
       "      <td>1892</td>\n",
       "      <td>\\N</td>\n",
       "      <td>5</td>\n",
       "      <td>Animation,Short</td>\n",
       "      <td>5.8</td>\n",
       "      <td>264.0</td>\n",
       "    </tr>\n",
       "    <tr>\n",
       "      <th>2</th>\n",
       "      <td>tt0000003</td>\n",
       "      <td>short</td>\n",
       "      <td>Pauvre Pierrot</td>\n",
       "      <td>Pauvre Pierrot</td>\n",
       "      <td>0</td>\n",
       "      <td>1892</td>\n",
       "      <td>\\N</td>\n",
       "      <td>4</td>\n",
       "      <td>Animation,Comedy,Romance</td>\n",
       "      <td>6.5</td>\n",
       "      <td>1829.0</td>\n",
       "    </tr>\n",
       "    <tr>\n",
       "      <th>3</th>\n",
       "      <td>tt0000004</td>\n",
       "      <td>short</td>\n",
       "      <td>Un bon bock</td>\n",
       "      <td>Un bon bock</td>\n",
       "      <td>0</td>\n",
       "      <td>1892</td>\n",
       "      <td>\\N</td>\n",
       "      <td>12</td>\n",
       "      <td>Animation,Short</td>\n",
       "      <td>5.6</td>\n",
       "      <td>179.0</td>\n",
       "    </tr>\n",
       "    <tr>\n",
       "      <th>4</th>\n",
       "      <td>tt0000005</td>\n",
       "      <td>short</td>\n",
       "      <td>Blacksmith Scene</td>\n",
       "      <td>Blacksmith Scene</td>\n",
       "      <td>0</td>\n",
       "      <td>1893</td>\n",
       "      <td>\\N</td>\n",
       "      <td>1</td>\n",
       "      <td>Comedy,Short</td>\n",
       "      <td>6.2</td>\n",
       "      <td>2620.0</td>\n",
       "    </tr>\n",
       "  </tbody>\n",
       "</table>\n",
       "</div>"
      ],
      "text/plain": [
       "      tconst titleType            primaryTitle           originalTitle   \n",
       "0  tt0000001     short              Carmencita              Carmencita  \\\n",
       "1  tt0000002     short  Le clown et ses chiens  Le clown et ses chiens   \n",
       "2  tt0000003     short          Pauvre Pierrot          Pauvre Pierrot   \n",
       "3  tt0000004     short             Un bon bock             Un bon bock   \n",
       "4  tt0000005     short        Blacksmith Scene        Blacksmith Scene   \n",
       "\n",
       "  isAdult startYear endYear runtimeMinutes                    genres   \n",
       "0       0      1894      \\N              1         Documentary,Short  \\\n",
       "1       0      1892      \\N              5           Animation,Short   \n",
       "2       0      1892      \\N              4  Animation,Comedy,Romance   \n",
       "3       0      1892      \\N             12           Animation,Short   \n",
       "4       0      1893      \\N              1              Comedy,Short   \n",
       "\n",
       "   averageRating  numVotes  \n",
       "0            5.7    1977.0  \n",
       "1            5.8     264.0  \n",
       "2            6.5    1829.0  \n",
       "3            5.6     179.0  \n",
       "4            6.2    2620.0  "
      ]
     },
     "execution_count": 12,
     "metadata": {},
     "output_type": "execute_result"
    }
   ],
   "source": [
    "df2.head()\n"
   ]
  },
  {
   "cell_type": "code",
   "execution_count": 13,
   "id": "72ad2b0c-be13-4607-bd2c-07ca50aaba9e",
   "metadata": {
    "tags": []
   },
   "outputs": [],
   "source": [
    "df2 = df2.sort_values(by='averageRating', ascending=False)"
   ]
  },
  {
   "cell_type": "code",
   "execution_count": 14,
   "id": "08e39b2a-1284-4f2b-a19c-3ed2473afa9e",
   "metadata": {
    "tags": []
   },
   "outputs": [
    {
     "data": {
      "text/html": [
       "<div>\n",
       "<style scoped>\n",
       "    .dataframe tbody tr th:only-of-type {\n",
       "        vertical-align: middle;\n",
       "    }\n",
       "\n",
       "    .dataframe tbody tr th {\n",
       "        vertical-align: top;\n",
       "    }\n",
       "\n",
       "    .dataframe thead th {\n",
       "        text-align: right;\n",
       "    }\n",
       "</style>\n",
       "<table border=\"1\" class=\"dataframe\">\n",
       "  <thead>\n",
       "    <tr style=\"text-align: right;\">\n",
       "      <th></th>\n",
       "      <th>tconst</th>\n",
       "      <th>titleType</th>\n",
       "      <th>primaryTitle</th>\n",
       "      <th>originalTitle</th>\n",
       "      <th>isAdult</th>\n",
       "      <th>startYear</th>\n",
       "      <th>endYear</th>\n",
       "      <th>runtimeMinutes</th>\n",
       "      <th>genres</th>\n",
       "      <th>averageRating</th>\n",
       "      <th>numVotes</th>\n",
       "    </tr>\n",
       "  </thead>\n",
       "  <tbody>\n",
       "    <tr>\n",
       "      <th>5146900</th>\n",
       "      <td>tt1997020</td>\n",
       "      <td>tvEpisode</td>\n",
       "      <td>Episode #8.43</td>\n",
       "      <td>Episode #8.43</td>\n",
       "      <td>0</td>\n",
       "      <td>2009</td>\n",
       "      <td>\\N</td>\n",
       "      <td>\\N</td>\n",
       "      <td>Documentary</td>\n",
       "      <td>10.0</td>\n",
       "      <td>40.0</td>\n",
       "    </tr>\n",
       "    <tr>\n",
       "      <th>6803053</th>\n",
       "      <td>tt3006024</td>\n",
       "      <td>short</td>\n",
       "      <td>Weightless</td>\n",
       "      <td>Weightless</td>\n",
       "      <td>0</td>\n",
       "      <td>2013</td>\n",
       "      <td>\\N</td>\n",
       "      <td>6</td>\n",
       "      <td>Drama,Sci-Fi,Short</td>\n",
       "      <td>10.0</td>\n",
       "      <td>5.0</td>\n",
       "    </tr>\n",
       "    <tr>\n",
       "      <th>895207</th>\n",
       "      <td>tt0924727</td>\n",
       "      <td>tvEpisode</td>\n",
       "      <td>O Surgimento Da Vagabanda</td>\n",
       "      <td>O Surgimento Da Vagabanda</td>\n",
       "      <td>0</td>\n",
       "      <td>2004</td>\n",
       "      <td>\\N</td>\n",
       "      <td>\\N</td>\n",
       "      <td>Comedy,Drama,Music</td>\n",
       "      <td>10.0</td>\n",
       "      <td>31.0</td>\n",
       "    </tr>\n",
       "    <tr>\n",
       "      <th>5208675</th>\n",
       "      <td>tt2026403</td>\n",
       "      <td>tvEpisode</td>\n",
       "      <td>Episode dated 13 October 2010</td>\n",
       "      <td>Episode dated 13 October 2010</td>\n",
       "      <td>0</td>\n",
       "      <td>2010</td>\n",
       "      <td>\\N</td>\n",
       "      <td>\\N</td>\n",
       "      <td>Documentary</td>\n",
       "      <td>10.0</td>\n",
       "      <td>24.0</td>\n",
       "    </tr>\n",
       "    <tr>\n",
       "      <th>5207786</th>\n",
       "      <td>tt20258840</td>\n",
       "      <td>tvEpisode</td>\n",
       "      <td>Save My School 3: Vivat Lyceum 25</td>\n",
       "      <td>Save My School 3: Vivat Lyceum 25</td>\n",
       "      <td>0</td>\n",
       "      <td>2022</td>\n",
       "      <td>\\N</td>\n",
       "      <td>\\N</td>\n",
       "      <td>Action,Biography,Crime</td>\n",
       "      <td>10.0</td>\n",
       "      <td>9.0</td>\n",
       "    </tr>\n",
       "  </tbody>\n",
       "</table>\n",
       "</div>"
      ],
      "text/plain": [
       "             tconst  titleType                       primaryTitle   \n",
       "5146900   tt1997020  tvEpisode                      Episode #8.43  \\\n",
       "6803053   tt3006024      short                         Weightless   \n",
       "895207    tt0924727  tvEpisode          O Surgimento Da Vagabanda   \n",
       "5208675   tt2026403  tvEpisode      Episode dated 13 October 2010   \n",
       "5207786  tt20258840  tvEpisode  Save My School 3: Vivat Lyceum 25   \n",
       "\n",
       "                             originalTitle isAdult startYear endYear   \n",
       "5146900                      Episode #8.43       0      2009      \\N  \\\n",
       "6803053                         Weightless       0      2013      \\N   \n",
       "895207           O Surgimento Da Vagabanda       0      2004      \\N   \n",
       "5208675      Episode dated 13 October 2010       0      2010      \\N   \n",
       "5207786  Save My School 3: Vivat Lyceum 25       0      2022      \\N   \n",
       "\n",
       "        runtimeMinutes                  genres  averageRating  numVotes  \n",
       "5146900             \\N             Documentary           10.0      40.0  \n",
       "6803053              6      Drama,Sci-Fi,Short           10.0       5.0  \n",
       "895207              \\N      Comedy,Drama,Music           10.0      31.0  \n",
       "5208675             \\N             Documentary           10.0      24.0  \n",
       "5207786             \\N  Action,Biography,Crime           10.0       9.0  "
      ]
     },
     "execution_count": 14,
     "metadata": {},
     "output_type": "execute_result"
    }
   ],
   "source": [
    "df2.head()"
   ]
  },
  {
   "cell_type": "code",
   "execution_count": 17,
   "id": "28f0b6cf-74dd-45d1-bbbe-d4354ed8ff0f",
   "metadata": {
    "tags": []
   },
   "outputs": [
    {
     "data": {
      "text/html": [
       "<div>\n",
       "<style scoped>\n",
       "    .dataframe tbody tr th:only-of-type {\n",
       "        vertical-align: middle;\n",
       "    }\n",
       "\n",
       "    .dataframe tbody tr th {\n",
       "        vertical-align: top;\n",
       "    }\n",
       "\n",
       "    .dataframe thead th {\n",
       "        text-align: right;\n",
       "    }\n",
       "</style>\n",
       "<table border=\"1\" class=\"dataframe\">\n",
       "  <thead>\n",
       "    <tr style=\"text-align: right;\">\n",
       "      <th></th>\n",
       "      <th>averageRating</th>\n",
       "      <th>numVotes</th>\n",
       "    </tr>\n",
       "  </thead>\n",
       "  <tbody>\n",
       "    <tr>\n",
       "      <th>count</th>\n",
       "      <td>1.048575e+06</td>\n",
       "      <td>1.048575e+06</td>\n",
       "    </tr>\n",
       "    <tr>\n",
       "      <th>mean</th>\n",
       "      <td>6.910768e+00</td>\n",
       "      <td>1.144784e+03</td>\n",
       "    </tr>\n",
       "    <tr>\n",
       "      <th>std</th>\n",
       "      <td>1.376078e+00</td>\n",
       "      <td>1.900236e+04</td>\n",
       "    </tr>\n",
       "    <tr>\n",
       "      <th>min</th>\n",
       "      <td>1.000000e+00</td>\n",
       "      <td>5.000000e+00</td>\n",
       "    </tr>\n",
       "    <tr>\n",
       "      <th>25%</th>\n",
       "      <td>6.200000e+00</td>\n",
       "      <td>1.200000e+01</td>\n",
       "    </tr>\n",
       "    <tr>\n",
       "      <th>50%</th>\n",
       "      <td>7.100000e+00</td>\n",
       "      <td>2.800000e+01</td>\n",
       "    </tr>\n",
       "    <tr>\n",
       "      <th>75%</th>\n",
       "      <td>7.800000e+00</td>\n",
       "      <td>1.050000e+02</td>\n",
       "    </tr>\n",
       "    <tr>\n",
       "      <th>max</th>\n",
       "      <td>1.000000e+01</td>\n",
       "      <td>2.746741e+06</td>\n",
       "    </tr>\n",
       "  </tbody>\n",
       "</table>\n",
       "</div>"
      ],
      "text/plain": [
       "       averageRating      numVotes\n",
       "count   1.048575e+06  1.048575e+06\n",
       "mean    6.910768e+00  1.144784e+03\n",
       "std     1.376078e+00  1.900236e+04\n",
       "min     1.000000e+00  5.000000e+00\n",
       "25%     6.200000e+00  1.200000e+01\n",
       "50%     7.100000e+00  2.800000e+01\n",
       "75%     7.800000e+00  1.050000e+02\n",
       "max     1.000000e+01  2.746741e+06"
      ]
     },
     "execution_count": 17,
     "metadata": {},
     "output_type": "execute_result"
    }
   ],
   "source": [
    "df1.describe()"
   ]
  },
  {
   "cell_type": "code",
   "execution_count": 19,
   "id": "d69608be-72be-4f0e-b898-67c32b2bd039",
   "metadata": {
    "tags": []
   },
   "outputs": [
    {
     "name": "stdout",
     "output_type": "stream",
     "text": [
      "<class 'pandas.core.frame.DataFrame'>\n",
      "Index: 1048575 entries, 825308 to 665670\n",
      "Data columns (total 3 columns):\n",
      " #   Column         Non-Null Count    Dtype  \n",
      "---  ------         --------------    -----  \n",
      " 0   tconst         1048575 non-null  object \n",
      " 1   averageRating  1048575 non-null  float64\n",
      " 2   numVotes       1048575 non-null  int64  \n",
      "dtypes: float64(1), int64(1), object(1)\n",
      "memory usage: 32.0+ MB\n"
     ]
    }
   ],
   "source": [
    "df1.info()"
   ]
  },
  {
   "cell_type": "code",
   "execution_count": 20,
   "id": "142ffd40-6acf-4fd3-a0c8-d995f6bd1655",
   "metadata": {
    "tags": []
   },
   "outputs": [
    {
     "data": {
      "text/html": [
       "<div>\n",
       "<style scoped>\n",
       "    .dataframe tbody tr th:only-of-type {\n",
       "        vertical-align: middle;\n",
       "    }\n",
       "\n",
       "    .dataframe tbody tr th {\n",
       "        vertical-align: top;\n",
       "    }\n",
       "\n",
       "    .dataframe thead th {\n",
       "        text-align: right;\n",
       "    }\n",
       "</style>\n",
       "<table border=\"1\" class=\"dataframe\">\n",
       "  <thead>\n",
       "    <tr style=\"text-align: right;\">\n",
       "      <th></th>\n",
       "      <th>averageRating</th>\n",
       "      <th>numVotes</th>\n",
       "    </tr>\n",
       "  </thead>\n",
       "  <tbody>\n",
       "    <tr>\n",
       "      <th>count</th>\n",
       "      <td>1.048575e+06</td>\n",
       "      <td>1.048575e+06</td>\n",
       "    </tr>\n",
       "    <tr>\n",
       "      <th>mean</th>\n",
       "      <td>6.910768e+00</td>\n",
       "      <td>1.144784e+03</td>\n",
       "    </tr>\n",
       "    <tr>\n",
       "      <th>std</th>\n",
       "      <td>1.376078e+00</td>\n",
       "      <td>1.900236e+04</td>\n",
       "    </tr>\n",
       "    <tr>\n",
       "      <th>min</th>\n",
       "      <td>1.000000e+00</td>\n",
       "      <td>5.000000e+00</td>\n",
       "    </tr>\n",
       "    <tr>\n",
       "      <th>25%</th>\n",
       "      <td>6.200000e+00</td>\n",
       "      <td>1.200000e+01</td>\n",
       "    </tr>\n",
       "    <tr>\n",
       "      <th>50%</th>\n",
       "      <td>7.100000e+00</td>\n",
       "      <td>2.800000e+01</td>\n",
       "    </tr>\n",
       "    <tr>\n",
       "      <th>75%</th>\n",
       "      <td>7.800000e+00</td>\n",
       "      <td>1.050000e+02</td>\n",
       "    </tr>\n",
       "    <tr>\n",
       "      <th>max</th>\n",
       "      <td>1.000000e+01</td>\n",
       "      <td>2.746741e+06</td>\n",
       "    </tr>\n",
       "  </tbody>\n",
       "</table>\n",
       "</div>"
      ],
      "text/plain": [
       "       averageRating      numVotes\n",
       "count   1.048575e+06  1.048575e+06\n",
       "mean    6.910768e+00  1.144784e+03\n",
       "std     1.376078e+00  1.900236e+04\n",
       "min     1.000000e+00  5.000000e+00\n",
       "25%     6.200000e+00  1.200000e+01\n",
       "50%     7.100000e+00  2.800000e+01\n",
       "75%     7.800000e+00  1.050000e+02\n",
       "max     1.000000e+01  2.746741e+06"
      ]
     },
     "execution_count": 20,
     "metadata": {},
     "output_type": "execute_result"
    }
   ],
   "source": [
    "df2.describe()"
   ]
  },
  {
   "cell_type": "code",
   "execution_count": 21,
   "id": "167a3993-1545-43a5-85bb-0899e26a3c55",
   "metadata": {
    "tags": []
   },
   "outputs": [
    {
     "name": "stdout",
     "output_type": "stream",
     "text": [
      "<class 'pandas.core.frame.DataFrame'>\n",
      "Index: 9902807 entries, 5146900 to 9902806\n",
      "Data columns (total 11 columns):\n",
      " #   Column          Dtype  \n",
      "---  ------          -----  \n",
      " 0   tconst          object \n",
      " 1   titleType       object \n",
      " 2   primaryTitle    object \n",
      " 3   originalTitle   object \n",
      " 4   isAdult         object \n",
      " 5   startYear       object \n",
      " 6   endYear         object \n",
      " 7   runtimeMinutes  object \n",
      " 8   genres          object \n",
      " 9   averageRating   float64\n",
      " 10  numVotes        float64\n",
      "dtypes: float64(2), object(9)\n",
      "memory usage: 906.6+ MB\n"
     ]
    }
   ],
   "source": [
    "df2.info()"
   ]
  },
  {
   "cell_type": "code",
   "execution_count": 22,
   "id": "9497e358-a3b5-45f6-a4c1-5b3310a616af",
   "metadata": {
    "tags": []
   },
   "outputs": [
    {
     "name": "stdout",
     "output_type": "stream",
     "text": [
      "Total null values in averageRating column: 8854232\n"
     ]
    }
   ],
   "source": [
    "# Count the number of null values in the 'averageRating' column\n",
    "null_count = df2['averageRating'].isnull().sum()\n",
    "\n",
    "# Display the total number of null values\n",
    "print(\"Total null values in averageRating column:\", null_count)"
   ]
  },
  {
   "cell_type": "code",
   "execution_count": 23,
   "id": "b542a4e5-b20f-4e44-bbdd-c61f8b891856",
   "metadata": {},
   "outputs": [],
   "source": [
    "df_movies = df2[df2['titleType'] == 'movie']\n",
    "df_movies = df_movies.sort_values(by='averageRating', ascending=False)\n",
    "df_movies.to_csv('movies_sorted_by_averageRating.tsv', sep='\\t', index=False)"
   ]
  },
  {
   "cell_type": "code",
   "execution_count": 24,
   "id": "c0ef0540-a571-40bc-8063-506fdbb279bb",
   "metadata": {
    "tags": []
   },
   "outputs": [
    {
     "data": {
      "text/plain": [
       "(647224, 11)"
      ]
     },
     "execution_count": 24,
     "metadata": {},
     "output_type": "execute_result"
    }
   ],
   "source": [
    "df_movies.shape"
   ]
  },
  {
   "cell_type": "code",
   "execution_count": 25,
   "id": "2f6f1ead-8674-4d14-9179-bae2e9ee77d2",
   "metadata": {
    "tags": []
   },
   "outputs": [
    {
     "data": {
      "text/html": [
       "<div>\n",
       "<style scoped>\n",
       "    .dataframe tbody tr th:only-of-type {\n",
       "        vertical-align: middle;\n",
       "    }\n",
       "\n",
       "    .dataframe tbody tr th {\n",
       "        vertical-align: top;\n",
       "    }\n",
       "\n",
       "    .dataframe thead th {\n",
       "        text-align: right;\n",
       "    }\n",
       "</style>\n",
       "<table border=\"1\" class=\"dataframe\">\n",
       "  <thead>\n",
       "    <tr style=\"text-align: right;\">\n",
       "      <th></th>\n",
       "      <th>tconst</th>\n",
       "      <th>titleType</th>\n",
       "      <th>primaryTitle</th>\n",
       "      <th>originalTitle</th>\n",
       "      <th>isAdult</th>\n",
       "      <th>startYear</th>\n",
       "      <th>endYear</th>\n",
       "      <th>runtimeMinutes</th>\n",
       "      <th>genres</th>\n",
       "      <th>averageRating</th>\n",
       "      <th>numVotes</th>\n",
       "    </tr>\n",
       "  </thead>\n",
       "  <tbody>\n",
       "    <tr>\n",
       "      <th>6495552</th>\n",
       "      <td>tt27244850</td>\n",
       "      <td>movie</td>\n",
       "      <td>Iron Rule</td>\n",
       "      <td>Iron Rule</td>\n",
       "      <td>0</td>\n",
       "      <td>2022</td>\n",
       "      <td>\\N</td>\n",
       "      <td>63</td>\n",
       "      <td>Drama</td>\n",
       "      <td>10.0</td>\n",
       "      <td>12.0</td>\n",
       "    </tr>\n",
       "    <tr>\n",
       "      <th>5394583</th>\n",
       "      <td>tt21147496</td>\n",
       "      <td>movie</td>\n",
       "      <td>Der letzte Ketzer</td>\n",
       "      <td>Der letzte Ketzer</td>\n",
       "      <td>0</td>\n",
       "      <td>2022</td>\n",
       "      <td>\\N</td>\n",
       "      <td>59</td>\n",
       "      <td>Biography,Documentary,History</td>\n",
       "      <td>10.0</td>\n",
       "      <td>5.0</td>\n",
       "    </tr>\n",
       "    <tr>\n",
       "      <th>4763215</th>\n",
       "      <td>tt18225750</td>\n",
       "      <td>movie</td>\n",
       "      <td>Malebolge</td>\n",
       "      <td>Malebolge</td>\n",
       "      <td>0</td>\n",
       "      <td>2021</td>\n",
       "      <td>\\N</td>\n",
       "      <td>74</td>\n",
       "      <td>Documentary</td>\n",
       "      <td>10.0</td>\n",
       "      <td>9.0</td>\n",
       "    </tr>\n",
       "    <tr>\n",
       "      <th>3960878</th>\n",
       "      <td>tt15481906</td>\n",
       "      <td>movie</td>\n",
       "      <td>Transilvania for Sierra Leone</td>\n",
       "      <td>Transilvania for Sierra Leone</td>\n",
       "      <td>0</td>\n",
       "      <td>2021</td>\n",
       "      <td>\\N</td>\n",
       "      <td>\\N</td>\n",
       "      <td>Documentary</td>\n",
       "      <td>10.0</td>\n",
       "      <td>12.0</td>\n",
       "    </tr>\n",
       "    <tr>\n",
       "      <th>6301115</th>\n",
       "      <td>tt26453860</td>\n",
       "      <td>movie</td>\n",
       "      <td>Anecdotals</td>\n",
       "      <td>Anecdotals</td>\n",
       "      <td>0</td>\n",
       "      <td>2023</td>\n",
       "      <td>\\N</td>\n",
       "      <td>83</td>\n",
       "      <td>Documentary</td>\n",
       "      <td>10.0</td>\n",
       "      <td>8.0</td>\n",
       "    </tr>\n",
       "    <tr>\n",
       "      <th>4945034</th>\n",
       "      <td>tt18987308</td>\n",
       "      <td>movie</td>\n",
       "      <td>Las Guerras del Narcotráfico</td>\n",
       "      <td>Las Guerras del Narcotráfico</td>\n",
       "      <td>0</td>\n",
       "      <td>2022</td>\n",
       "      <td>\\N</td>\n",
       "      <td>99</td>\n",
       "      <td>Action,Comedy</td>\n",
       "      <td>10.0</td>\n",
       "      <td>21.0</td>\n",
       "    </tr>\n",
       "    <tr>\n",
       "      <th>2861723</th>\n",
       "      <td>tt13458442</td>\n",
       "      <td>movie</td>\n",
       "      <td>Vegan on a Jet Plane: Bali</td>\n",
       "      <td>Vegan on a Jet Plane: Bali</td>\n",
       "      <td>0</td>\n",
       "      <td>2021</td>\n",
       "      <td>\\N</td>\n",
       "      <td>50</td>\n",
       "      <td>Documentary</td>\n",
       "      <td>10.0</td>\n",
       "      <td>14.0</td>\n",
       "    </tr>\n",
       "    <tr>\n",
       "      <th>7230656</th>\n",
       "      <td>tt3995596</td>\n",
       "      <td>movie</td>\n",
       "      <td>Efunsetan Aniwura</td>\n",
       "      <td>Efunsetan Aniwura</td>\n",
       "      <td>0</td>\n",
       "      <td>2005</td>\n",
       "      <td>\\N</td>\n",
       "      <td>83</td>\n",
       "      <td>History</td>\n",
       "      <td>10.0</td>\n",
       "      <td>7.0</td>\n",
       "    </tr>\n",
       "    <tr>\n",
       "      <th>1335777</th>\n",
       "      <td>tt10663998</td>\n",
       "      <td>movie</td>\n",
       "      <td>Widow of the Revolution: The Anna Larina Story</td>\n",
       "      <td>Widow of the Revolution: The Anna Larina Story</td>\n",
       "      <td>0</td>\n",
       "      <td>2000</td>\n",
       "      <td>\\N</td>\n",
       "      <td>\\N</td>\n",
       "      <td>Documentary</td>\n",
       "      <td>10.0</td>\n",
       "      <td>25.0</td>\n",
       "    </tr>\n",
       "    <tr>\n",
       "      <th>4500358</th>\n",
       "      <td>tt16762816</td>\n",
       "      <td>movie</td>\n",
       "      <td>Travel from Moscow to Kostroma on the ship 'Kn...</td>\n",
       "      <td>Travel from Moscow to Kostroma on the ship 'Kn...</td>\n",
       "      <td>0</td>\n",
       "      <td>2021</td>\n",
       "      <td>\\N</td>\n",
       "      <td>45</td>\n",
       "      <td>Documentary</td>\n",
       "      <td>10.0</td>\n",
       "      <td>20.0</td>\n",
       "    </tr>\n",
       "    <tr>\n",
       "      <th>6276065</th>\n",
       "      <td>tt26345008</td>\n",
       "      <td>movie</td>\n",
       "      <td>Go On, Be Brave</td>\n",
       "      <td>Go On, Be Brave</td>\n",
       "      <td>0</td>\n",
       "      <td>2023</td>\n",
       "      <td>\\N</td>\n",
       "      <td>111</td>\n",
       "      <td>Documentary,Sport</td>\n",
       "      <td>10.0</td>\n",
       "      <td>37.0</td>\n",
       "    </tr>\n",
       "    <tr>\n",
       "      <th>2873399</th>\n",
       "      <td>tt13479840</td>\n",
       "      <td>movie</td>\n",
       "      <td>North</td>\n",
       "      <td>North</td>\n",
       "      <td>0</td>\n",
       "      <td>2020</td>\n",
       "      <td>\\N</td>\n",
       "      <td>\\N</td>\n",
       "      <td>Documentary</td>\n",
       "      <td>10.0</td>\n",
       "      <td>6.0</td>\n",
       "    </tr>\n",
       "    <tr>\n",
       "      <th>4980424</th>\n",
       "      <td>tt1918943</td>\n",
       "      <td>movie</td>\n",
       "      <td>Max Ernst Hanging</td>\n",
       "      <td>Max Ernst Hanging</td>\n",
       "      <td>0</td>\n",
       "      <td>2009</td>\n",
       "      <td>\\N</td>\n",
       "      <td>59</td>\n",
       "      <td>Documentary</td>\n",
       "      <td>10.0</td>\n",
       "      <td>7.0</td>\n",
       "    </tr>\n",
       "    <tr>\n",
       "      <th>7025025</th>\n",
       "      <td>tt3526310</td>\n",
       "      <td>movie</td>\n",
       "      <td>The World Awaits</td>\n",
       "      <td>The World Awaits</td>\n",
       "      <td>0</td>\n",
       "      <td>2016</td>\n",
       "      <td>\\N</td>\n",
       "      <td>98</td>\n",
       "      <td>Documentary</td>\n",
       "      <td>10.0</td>\n",
       "      <td>9.0</td>\n",
       "    </tr>\n",
       "    <tr>\n",
       "      <th>5651207</th>\n",
       "      <td>tt2197476</td>\n",
       "      <td>movie</td>\n",
       "      <td>As Long as the Rivers Run</td>\n",
       "      <td>As Long as the Rivers Run</td>\n",
       "      <td>0</td>\n",
       "      <td>1971</td>\n",
       "      <td>\\N</td>\n",
       "      <td>62</td>\n",
       "      <td>Documentary</td>\n",
       "      <td>10.0</td>\n",
       "      <td>6.0</td>\n",
       "    </tr>\n",
       "  </tbody>\n",
       "</table>\n",
       "</div>"
      ],
      "text/plain": [
       "             tconst titleType   \n",
       "6495552  tt27244850     movie  \\\n",
       "5394583  tt21147496     movie   \n",
       "4763215  tt18225750     movie   \n",
       "3960878  tt15481906     movie   \n",
       "6301115  tt26453860     movie   \n",
       "4945034  tt18987308     movie   \n",
       "2861723  tt13458442     movie   \n",
       "7230656   tt3995596     movie   \n",
       "1335777  tt10663998     movie   \n",
       "4500358  tt16762816     movie   \n",
       "6276065  tt26345008     movie   \n",
       "2873399  tt13479840     movie   \n",
       "4980424   tt1918943     movie   \n",
       "7025025   tt3526310     movie   \n",
       "5651207   tt2197476     movie   \n",
       "\n",
       "                                              primaryTitle   \n",
       "6495552                                          Iron Rule  \\\n",
       "5394583                                  Der letzte Ketzer   \n",
       "4763215                                          Malebolge   \n",
       "3960878                      Transilvania for Sierra Leone   \n",
       "6301115                                         Anecdotals   \n",
       "4945034                       Las Guerras del Narcotráfico   \n",
       "2861723                         Vegan on a Jet Plane: Bali   \n",
       "7230656                                  Efunsetan Aniwura   \n",
       "1335777     Widow of the Revolution: The Anna Larina Story   \n",
       "4500358  Travel from Moscow to Kostroma on the ship 'Kn...   \n",
       "6276065                                    Go On, Be Brave   \n",
       "2873399                                              North   \n",
       "4980424                                  Max Ernst Hanging   \n",
       "7025025                                   The World Awaits   \n",
       "5651207                          As Long as the Rivers Run   \n",
       "\n",
       "                                             originalTitle isAdult startYear   \n",
       "6495552                                          Iron Rule       0      2022  \\\n",
       "5394583                                  Der letzte Ketzer       0      2022   \n",
       "4763215                                          Malebolge       0      2021   \n",
       "3960878                      Transilvania for Sierra Leone       0      2021   \n",
       "6301115                                         Anecdotals       0      2023   \n",
       "4945034                       Las Guerras del Narcotráfico       0      2022   \n",
       "2861723                         Vegan on a Jet Plane: Bali       0      2021   \n",
       "7230656                                  Efunsetan Aniwura       0      2005   \n",
       "1335777     Widow of the Revolution: The Anna Larina Story       0      2000   \n",
       "4500358  Travel from Moscow to Kostroma on the ship 'Kn...       0      2021   \n",
       "6276065                                    Go On, Be Brave       0      2023   \n",
       "2873399                                              North       0      2020   \n",
       "4980424                                  Max Ernst Hanging       0      2009   \n",
       "7025025                                   The World Awaits       0      2016   \n",
       "5651207                          As Long as the Rivers Run       0      1971   \n",
       "\n",
       "        endYear runtimeMinutes                         genres  averageRating   \n",
       "6495552      \\N             63                          Drama           10.0  \\\n",
       "5394583      \\N             59  Biography,Documentary,History           10.0   \n",
       "4763215      \\N             74                    Documentary           10.0   \n",
       "3960878      \\N             \\N                    Documentary           10.0   \n",
       "6301115      \\N             83                    Documentary           10.0   \n",
       "4945034      \\N             99                  Action,Comedy           10.0   \n",
       "2861723      \\N             50                    Documentary           10.0   \n",
       "7230656      \\N             83                        History           10.0   \n",
       "1335777      \\N             \\N                    Documentary           10.0   \n",
       "4500358      \\N             45                    Documentary           10.0   \n",
       "6276065      \\N            111              Documentary,Sport           10.0   \n",
       "2873399      \\N             \\N                    Documentary           10.0   \n",
       "4980424      \\N             59                    Documentary           10.0   \n",
       "7025025      \\N             98                    Documentary           10.0   \n",
       "5651207      \\N             62                    Documentary           10.0   \n",
       "\n",
       "         numVotes  \n",
       "6495552      12.0  \n",
       "5394583       5.0  \n",
       "4763215       9.0  \n",
       "3960878      12.0  \n",
       "6301115       8.0  \n",
       "4945034      21.0  \n",
       "2861723      14.0  \n",
       "7230656       7.0  \n",
       "1335777      25.0  \n",
       "4500358      20.0  \n",
       "6276065      37.0  \n",
       "2873399       6.0  \n",
       "4980424       7.0  \n",
       "7025025       9.0  \n",
       "5651207       6.0  "
      ]
     },
     "execution_count": 25,
     "metadata": {},
     "output_type": "execute_result"
    }
   ],
   "source": [
    "df_movies.head(15)"
   ]
  },
  {
   "cell_type": "code",
   "execution_count": 27,
   "id": "602899b0-20a9-45ac-b285-3b98abe97259",
   "metadata": {
    "tags": []
   },
   "outputs": [
    {
     "data": {
      "image/png": "[encoded data removed]",
      "text/plain": [
       "<Figure size 640x480 with 1 Axes>"
      ]
     },
     "metadata": {},
     "output_type": "display_data"
    }
   ],
   "source": [
    "averageRating_counts = df_movies['averageRating'].value_counts().sort_index()\n",
    "plt.bar(averageRating_counts.index, averageRating_counts.values)\n",
    "\n",
    "# Set the labels and title\n",
    "plt.xlabel('averageRating')\n",
    "plt.ylabel('Number of Movies')\n",
    "plt.title('Number of Movies per Rating')\n",
    "\n",
    "# Display the plot\n",
    "plt.show()"
   ]
  },
  {
   "cell_type": "code",
   "execution_count": 30,
   "id": "08173029-0c84-4de8-b28c-cf382fc708a6",
   "metadata": {
    "tags": []
   },
   "outputs": [
    {
     "data": {
      "image/png": "[encoded data removed]",
      "text/plain": [
       "<Figure size 640x480 with 1 Axes>"
      ]
     },
     "metadata": {},
     "output_type": "display_data"
    }
   ],
   "source": [
    "import matplotlib.pyplot as plt\n",
    "import numpy as np\n",
    "\n",
    "# Define the rating ranges\n",
    "rating_ranges = [1, 2, 3, 4, 5, 6, 7, 8, 9, 10]\n",
    "\n",
    "# Bin the average ratings into ranges\n",
    "df_movies['rating_range'] = pd.cut(df_movies['averageRating'], bins=rating_ranges, right=False)\n",
    "\n",
    "# Count the number of movies in each rating range\n",
    "rating_counts = df_movies['rating_range'].value_counts().sort_index()\n",
    "\n",
    "# Create a color palette\n",
    "num_bars = len(rating_counts)\n",
    "color_palette = plt.cm.Set3(np.linspace(0, 1, num_bars))\n",
    "\n",
    "# Plot the bar graph with custom colors\n",
    "plt.bar(rating_counts.index.astype(str), rating_counts.values, color=color_palette)\n",
    "\n",
    "# Set the labels and title\n",
    "plt.xlabel('Rating Range')\n",
    "plt.ylabel('Number of Movies')\n",
    "plt.title('Number of Movies per Rating Range')\n",
    "\n",
    "# Add the total count above each bar\n",
    "for i, count in enumerate(rating_counts.values):\n",
    "    plt.text(i, count, str(count), ha='center', va='bottom')\n",
    "\n",
    "# Display the plot\n",
    "plt.show()\n",
    "\n"
   ]
  },
  {
   "cell_type": "code",
   "execution_count": 32,
   "id": "fe128320-d7a0-4c49-9ef6-0ac8be8f049b",
   "metadata": {
    "tags": []
   },
   "outputs": [
    {
     "data": {
      "image/png": "[encoded data removed]",
      "text/plain": [
       "<Figure size 640x480 with 1 Axes>"
      ]
     },
     "metadata": {},
     "output_type": "display_data"
    }
   ],
   "source": [
    "# Create the line plot\n",
    "plt.plot(averageRating_counts.index, averageRating_counts.values, marker='o', linestyle='-')\n",
    "\n",
    "# Set the labels and title\n",
    "plt.xlabel('averageRating')\n",
    "plt.ylabel('Number of Movies')\n",
    "plt.title('Number of Movies per Rating')\n",
    "\n",
    "# Display the plot\n",
    "plt.show()"
   ]
  },
  {
   "cell_type": "code",
   "execution_count": 33,
   "id": "07c98014-0d16-418a-a285-347b4386d68a",
   "metadata": {
    "tags": []
   },
   "outputs": [],
   "source": [
    "# Filter rows with 'titleType' as 'movie' and 'numVotes' greater than 5000 add-  & (df2['numVotes'] > 50000)]\n",
    "df_movies = df2[(df2['titleType'] == 'movie')]\n"
   ]
  },
  {
   "cell_type": "code",
   "execution_count": 34,
   "id": "7455c7ba-db2d-4045-9aaf-02d97eb076bf",
   "metadata": {
    "tags": []
   },
   "outputs": [
    {
     "data": {
      "text/html": [
       "<div>\n",
       "<style scoped>\n",
       "    .dataframe tbody tr th:only-of-type {\n",
       "        vertical-align: middle;\n",
       "    }\n",
       "\n",
       "    .dataframe tbody tr th {\n",
       "        vertical-align: top;\n",
       "    }\n",
       "\n",
       "    .dataframe thead th {\n",
       "        text-align: right;\n",
       "    }\n",
       "</style>\n",
       "<table border=\"1\" class=\"dataframe\">\n",
       "  <thead>\n",
       "    <tr style=\"text-align: right;\">\n",
       "      <th></th>\n",
       "      <th>tconst</th>\n",
       "      <th>titleType</th>\n",
       "      <th>primaryTitle</th>\n",
       "      <th>originalTitle</th>\n",
       "      <th>isAdult</th>\n",
       "      <th>startYear</th>\n",
       "      <th>endYear</th>\n",
       "      <th>runtimeMinutes</th>\n",
       "      <th>genres</th>\n",
       "      <th>averageRating</th>\n",
       "      <th>numVotes</th>\n",
       "    </tr>\n",
       "  </thead>\n",
       "  <tbody>\n",
       "    <tr>\n",
       "      <th>6495552</th>\n",
       "      <td>tt27244850</td>\n",
       "      <td>movie</td>\n",
       "      <td>Iron Rule</td>\n",
       "      <td>Iron Rule</td>\n",
       "      <td>0</td>\n",
       "      <td>2022</td>\n",
       "      <td>\\N</td>\n",
       "      <td>63</td>\n",
       "      <td>Drama</td>\n",
       "      <td>10.0</td>\n",
       "      <td>12.0</td>\n",
       "    </tr>\n",
       "    <tr>\n",
       "      <th>6504265</th>\n",
       "      <td>tt27302470</td>\n",
       "      <td>movie</td>\n",
       "      <td>1982 Anbarasin Kaadhal</td>\n",
       "      <td>1982 Anbarasin Kaadhal</td>\n",
       "      <td>0</td>\n",
       "      <td>2023</td>\n",
       "      <td>\\N</td>\n",
       "      <td>\\N</td>\n",
       "      <td>Romance,Thriller</td>\n",
       "      <td>10.0</td>\n",
       "      <td>132.0</td>\n",
       "    </tr>\n",
       "    <tr>\n",
       "      <th>3371074</th>\n",
       "      <td>tt14391292</td>\n",
       "      <td>movie</td>\n",
       "      <td>Mr. Local Man</td>\n",
       "      <td>Mr. Local Man</td>\n",
       "      <td>0</td>\n",
       "      <td>2019</td>\n",
       "      <td>\\N</td>\n",
       "      <td>82</td>\n",
       "      <td>Adventure</td>\n",
       "      <td>10.0</td>\n",
       "      <td>15.0</td>\n",
       "    </tr>\n",
       "    <tr>\n",
       "      <th>5527936</th>\n",
       "      <td>tt21479810</td>\n",
       "      <td>movie</td>\n",
       "      <td>Project Pivot</td>\n",
       "      <td>Project Pivot</td>\n",
       "      <td>0</td>\n",
       "      <td>2022</td>\n",
       "      <td>\\N</td>\n",
       "      <td>100</td>\n",
       "      <td>Documentary</td>\n",
       "      <td>10.0</td>\n",
       "      <td>12.0</td>\n",
       "    </tr>\n",
       "    <tr>\n",
       "      <th>2595303</th>\n",
       "      <td>tt12966276</td>\n",
       "      <td>movie</td>\n",
       "      <td>Skategoat</td>\n",
       "      <td>Skategoat</td>\n",
       "      <td>0</td>\n",
       "      <td>2021</td>\n",
       "      <td>\\N</td>\n",
       "      <td>80</td>\n",
       "      <td>Documentary</td>\n",
       "      <td>10.0</td>\n",
       "      <td>7.0</td>\n",
       "    </tr>\n",
       "    <tr>\n",
       "      <th>5771624</th>\n",
       "      <td>tt22489120</td>\n",
       "      <td>movie</td>\n",
       "      <td>La Lucha: Getting Schooled in America</td>\n",
       "      <td>La Lucha: Getting Schooled in America</td>\n",
       "      <td>0</td>\n",
       "      <td>2023</td>\n",
       "      <td>\\N</td>\n",
       "      <td>80</td>\n",
       "      <td>Documentary</td>\n",
       "      <td>10.0</td>\n",
       "      <td>7.0</td>\n",
       "    </tr>\n",
       "    <tr>\n",
       "      <th>5771920</th>\n",
       "      <td>tt22490110</td>\n",
       "      <td>movie</td>\n",
       "      <td>Ninja Moon Showdown</td>\n",
       "      <td>Ninja Moon Showdown</td>\n",
       "      <td>0</td>\n",
       "      <td>2022</td>\n",
       "      <td>\\N</td>\n",
       "      <td>99</td>\n",
       "      <td>Action</td>\n",
       "      <td>10.0</td>\n",
       "      <td>5.0</td>\n",
       "    </tr>\n",
       "    <tr>\n",
       "      <th>2117294</th>\n",
       "      <td>tt12069878</td>\n",
       "      <td>movie</td>\n",
       "      <td>Am Rande der Zeiten</td>\n",
       "      <td>Am Rande der Zeiten</td>\n",
       "      <td>0</td>\n",
       "      <td>2020</td>\n",
       "      <td>\\N</td>\n",
       "      <td>\\N</td>\n",
       "      <td>Drama</td>\n",
       "      <td>10.0</td>\n",
       "      <td>7.0</td>\n",
       "    </tr>\n",
       "    <tr>\n",
       "      <th>7270883</th>\n",
       "      <td>tt4085610</td>\n",
       "      <td>movie</td>\n",
       "      <td>A Thousand Voices</td>\n",
       "      <td>A Thousand Voices</td>\n",
       "      <td>0</td>\n",
       "      <td>2014</td>\n",
       "      <td>\\N</td>\n",
       "      <td>57</td>\n",
       "      <td>Documentary,History</td>\n",
       "      <td>10.0</td>\n",
       "      <td>6.0</td>\n",
       "    </tr>\n",
       "    <tr>\n",
       "      <th>5970564</th>\n",
       "      <td>tt23632152</td>\n",
       "      <td>movie</td>\n",
       "      <td>The Peculiar Sensation of Being Pat Ingoldsby</td>\n",
       "      <td>The Peculiar Sensation of Being Pat Ingoldsby</td>\n",
       "      <td>0</td>\n",
       "      <td>2022</td>\n",
       "      <td>\\N</td>\n",
       "      <td>97</td>\n",
       "      <td>Documentary</td>\n",
       "      <td>10.0</td>\n",
       "      <td>7.0</td>\n",
       "    </tr>\n",
       "    <tr>\n",
       "      <th>5667856</th>\n",
       "      <td>tt22016398</td>\n",
       "      <td>movie</td>\n",
       "      <td>Chasing Tokyo</td>\n",
       "      <td>Chasing Tokyo</td>\n",
       "      <td>0</td>\n",
       "      <td>2022</td>\n",
       "      <td>\\N</td>\n",
       "      <td>89</td>\n",
       "      <td>Adventure,Documentary,Sport</td>\n",
       "      <td>10.0</td>\n",
       "      <td>5.0</td>\n",
       "    </tr>\n",
       "    <tr>\n",
       "      <th>6532459</th>\n",
       "      <td>tt27425654</td>\n",
       "      <td>movie</td>\n",
       "      <td>Chal Zindagi</td>\n",
       "      <td>Chal Zindagi</td>\n",
       "      <td>0</td>\n",
       "      <td>2023</td>\n",
       "      <td>\\N</td>\n",
       "      <td>130</td>\n",
       "      <td>Adventure,Drama</td>\n",
       "      <td>10.0</td>\n",
       "      <td>40.0</td>\n",
       "    </tr>\n",
       "    <tr>\n",
       "      <th>6532425</th>\n",
       "      <td>tt27425509</td>\n",
       "      <td>movie</td>\n",
       "      <td>Praveena</td>\n",
       "      <td>Praveena</td>\n",
       "      <td>0</td>\n",
       "      <td>2023</td>\n",
       "      <td>\\N</td>\n",
       "      <td>\\N</td>\n",
       "      <td>\\N</td>\n",
       "      <td>10.0</td>\n",
       "      <td>11.0</td>\n",
       "    </tr>\n",
       "    <tr>\n",
       "      <th>3429750</th>\n",
       "      <td>tt14498354</td>\n",
       "      <td>movie</td>\n",
       "      <td>Invisible Threads - From Wireless to War</td>\n",
       "      <td>Invisible Threads - From Wireless to War</td>\n",
       "      <td>0</td>\n",
       "      <td>2021</td>\n",
       "      <td>\\N</td>\n",
       "      <td>130</td>\n",
       "      <td>Documentary</td>\n",
       "      <td>10.0</td>\n",
       "      <td>6.0</td>\n",
       "    </tr>\n",
       "    <tr>\n",
       "      <th>2304950</th>\n",
       "      <td>tt12413918</td>\n",
       "      <td>movie</td>\n",
       "      <td>Zayed's Antarctic Lights</td>\n",
       "      <td>Zayed's Antarctic Lights</td>\n",
       "      <td>0</td>\n",
       "      <td>2018</td>\n",
       "      <td>\\N</td>\n",
       "      <td>57</td>\n",
       "      <td>Documentary</td>\n",
       "      <td>10.0</td>\n",
       "      <td>8.0</td>\n",
       "    </tr>\n",
       "  </tbody>\n",
       "</table>\n",
       "</div>"
      ],
      "text/plain": [
       "             tconst titleType                                   primaryTitle   \n",
       "6495552  tt27244850     movie                                      Iron Rule  \\\n",
       "6504265  tt27302470     movie                         1982 Anbarasin Kaadhal   \n",
       "3371074  tt14391292     movie                                  Mr. Local Man   \n",
       "5527936  tt21479810     movie                                  Project Pivot   \n",
       "2595303  tt12966276     movie                                      Skategoat   \n",
       "5771624  tt22489120     movie          La Lucha: Getting Schooled in America   \n",
       "5771920  tt22490110     movie                            Ninja Moon Showdown   \n",
       "2117294  tt12069878     movie                            Am Rande der Zeiten   \n",
       "7270883   tt4085610     movie                              A Thousand Voices   \n",
       "5970564  tt23632152     movie  The Peculiar Sensation of Being Pat Ingoldsby   \n",
       "5667856  tt22016398     movie                                  Chasing Tokyo   \n",
       "6532459  tt27425654     movie                                   Chal Zindagi   \n",
       "6532425  tt27425509     movie                                       Praveena   \n",
       "3429750  tt14498354     movie       Invisible Threads - From Wireless to War   \n",
       "2304950  tt12413918     movie                       Zayed's Antarctic Lights   \n",
       "\n",
       "                                         originalTitle isAdult startYear   \n",
       "6495552                                      Iron Rule       0      2022  \\\n",
       "6504265                         1982 Anbarasin Kaadhal       0      2023   \n",
       "3371074                                  Mr. Local Man       0      2019   \n",
       "5527936                                  Project Pivot       0      2022   \n",
       "2595303                                      Skategoat       0      2021   \n",
       "5771624          La Lucha: Getting Schooled in America       0      2023   \n",
       "5771920                            Ninja Moon Showdown       0      2022   \n",
       "2117294                            Am Rande der Zeiten       0      2020   \n",
       "7270883                              A Thousand Voices       0      2014   \n",
       "5970564  The Peculiar Sensation of Being Pat Ingoldsby       0      2022   \n",
       "5667856                                  Chasing Tokyo       0      2022   \n",
       "6532459                                   Chal Zindagi       0      2023   \n",
       "6532425                                       Praveena       0      2023   \n",
       "3429750       Invisible Threads - From Wireless to War       0      2021   \n",
       "2304950                       Zayed's Antarctic Lights       0      2018   \n",
       "\n",
       "        endYear runtimeMinutes                       genres  averageRating   \n",
       "6495552      \\N             63                        Drama           10.0  \\\n",
       "6504265      \\N             \\N             Romance,Thriller           10.0   \n",
       "3371074      \\N             82                    Adventure           10.0   \n",
       "5527936      \\N            100                  Documentary           10.0   \n",
       "2595303      \\N             80                  Documentary           10.0   \n",
       "5771624      \\N             80                  Documentary           10.0   \n",
       "5771920      \\N             99                       Action           10.0   \n",
       "2117294      \\N             \\N                        Drama           10.0   \n",
       "7270883      \\N             57          Documentary,History           10.0   \n",
       "5970564      \\N             97                  Documentary           10.0   \n",
       "5667856      \\N             89  Adventure,Documentary,Sport           10.0   \n",
       "6532459      \\N            130              Adventure,Drama           10.0   \n",
       "6532425      \\N             \\N                           \\N           10.0   \n",
       "3429750      \\N            130                  Documentary           10.0   \n",
       "2304950      \\N             57                  Documentary           10.0   \n",
       "\n",
       "         numVotes  \n",
       "6495552      12.0  \n",
       "6504265     132.0  \n",
       "3371074      15.0  \n",
       "5527936      12.0  \n",
       "2595303       7.0  \n",
       "5771624       7.0  \n",
       "5771920       5.0  \n",
       "2117294       7.0  \n",
       "7270883       6.0  \n",
       "5970564       7.0  \n",
       "5667856       5.0  \n",
       "6532459      40.0  \n",
       "6532425      11.0  \n",
       "3429750       6.0  \n",
       "2304950       8.0  "
      ]
     },
     "execution_count": 34,
     "metadata": {},
     "output_type": "execute_result"
    }
   ],
   "source": [
    "df_movies.head(15)"
   ]
  },
  {
   "cell_type": "code",
   "execution_count": 23,
   "id": "d831168b-0aeb-4267-b12c-d9dbe24a2b18",
   "metadata": {
    "tags": []
   },
   "outputs": [
    {
     "data": {
      "image/png": "[encoded data removed]",
      "text/plain": [
       "<Figure size 1200x400 with 1 Axes>"
      ]
     },
     "metadata": {},
     "output_type": "display_data"
    }
   ],
   "source": [
    "#df_movies['startYear'].value_counts().head(10).plot.bar(figsize=(12,4))\n",
    "top_10_years = df_movies['startYear'].value_counts().head(10)\n",
    "\n",
    "# Plot the bar chart with different colors for each bar\n",
    "ax = top_10_years.plot.bar(color=['red', 'green', 'blue', 'orange', 'purple', 'pink', 'gray', 'brown', 'cyan', 'magenta'], figsize=(12, 4))\n",
    "\n",
    "# Set the Y-axis limit to extend up to 700\n",
    "ax.set_ylim([0, 700])\n",
    "\n",
    "# Display the plot\n",
    "plt.show()\n"
   ]
  },
  {
   "cell_type": "code",
   "execution_count": 35,
   "id": "e238cb66-0585-4748-812d-890974eca729",
   "metadata": {
    "tags": []
   },
   "outputs": [
    {
     "name": "stdout",
     "output_type": "stream",
     "text": [
      "Sum of total votes for 'titleType' movie: 957248476.0\n"
     ]
    }
   ],
   "source": [
    "\n",
    "# Calculate the sum of total votes in 'numVotes' for the 'titleType' movie\n",
    "total_votes_sum = df_movies['numVotes'].sum()\n",
    "\n",
    "# Display the sum of total votes\n",
    "print(\"Sum of total votes for 'titleType' movie:\", total_votes_sum)"
   ]
  },
  {
   "cell_type": "code",
   "execution_count": 36,
   "id": "164eaf00-d6c9-49d9-b55e-51854863ef3c",
   "metadata": {
    "tags": []
   },
   "outputs": [
    {
     "name": "stdout",
     "output_type": "stream",
     "text": [
      "Total number of movies: 647224\n"
     ]
    }
   ],
   "source": [
    "# Get the total number of movies\n",
    "total_movies = len(df_movies)\n",
    "\n",
    "# Display the total number of movies\n",
    "print(\"Total number of movies:\", total_movies)\n"
   ]
  },
  {
   "cell_type": "markdown",
   "id": "45e485de-dc74-4c48-8e71-868f15153675",
   "metadata": {},
   "source": [
    "#So Average numVotes for a movie =957248476/647224=1479"
   ]
  },
  {
   "cell_type": "code",
   "execution_count": 37,
   "id": "c7287b39-eac2-4a18-ba81-d1f543012e62",
   "metadata": {
    "tags": []
   },
   "outputs": [
    {
     "name": "stdout",
     "output_type": "stream",
     "text": [
      "Number of movies without a runtimeMinutes value: 0\n"
     ]
    }
   ],
   "source": [
    "# Count the number of movies without a runtimeMinutes value\n",
    "num_movies_without_runtime = df_movies['runtimeMinutes'].isnull().sum()\n",
    "\n",
    "# Display the number of movies without a runtimeMinutes value\n",
    "print(\"Number of movies without a runtimeMinutes value:\", num_movies_without_runtime)\n"
   ]
  },
  {
   "cell_type": "code",
   "execution_count": 38,
   "id": "10b68317-fd04-42ec-987d-c7c0111442df",
   "metadata": {
    "tags": []
   },
   "outputs": [
    {
     "data": {
      "text/plain": [
       "Index(['tconst', 'titleType', 'primaryTitle', 'originalTitle', 'isAdult',\n",
       "       'startYear', 'endYear', 'runtimeMinutes', 'genres', 'averageRating',\n",
       "       'numVotes'],\n",
       "      dtype='object')"
      ]
     },
     "execution_count": 38,
     "metadata": {},
     "output_type": "execute_result"
    }
   ],
   "source": [
    "df_movies.columns"
   ]
  },
  {
   "cell_type": "code",
   "execution_count": 39,
   "id": "7329da5e-f5eb-40a7-a5d7-f8e6e8bc9e5b",
   "metadata": {},
   "outputs": [
    {
     "name": "stdout",
     "output_type": "stream",
     "text": [
      "genres\n",
      "Drama          234644\n",
      "Documentary    122811\n",
      "Comedy         109316\n",
      "\\N              72241\n",
      "Action          53984\n",
      "Romance         47357\n",
      "Thriller        44832\n",
      "Crime           37287\n",
      "Horror          37094\n",
      "Adventure       28133\n",
      "Family          17687\n",
      "Biography       17291\n",
      "Mystery         17043\n",
      "Fantasy         15374\n",
      "History         14293\n",
      "Sci-Fi          13954\n",
      "Music           13673\n",
      "Musical         10240\n",
      "War              9286\n",
      "Adult            9251\n",
      "Animation        9131\n",
      "Western          8158\n",
      "Sport            7140\n",
      "News             1445\n",
      "Film-Noir         881\n",
      "Reality-TV        514\n",
      "Talk-Show         175\n",
      "Short              30\n",
      "Game-Show          26\n",
      "Name: count, dtype: int64\n"
     ]
    },
    {
     "name": "stderr",
     "output_type": "stream",
     "text": [
      "C:\\Users\\udyan\\AppData\\Local\\Temp\\ipykernel_3020\\2177394696.py:2: SettingWithCopyWarning: \n",
      "A value is trying to be set on a copy of a slice from a DataFrame.\n",
      "Try using .loc[row_indexer,col_indexer] = value instead\n",
      "\n",
      "See the caveats in the documentation: https://pandas.pydata.org/pandas-docs/stable/user_guide/indexing.html#returning-a-view-versus-a-copy\n",
      "  df_movies['genres'] = df_movies['genres'].str.split(',')\n"
     ]
    }
   ],
   "source": [
    "# Split the 'genres' column to create a list of genres for each movie\n",
    "df_movies['genres'] = df_movies['genres'].str.split(',')\n",
    "\n",
    "# Count the number of movies for each genre\n",
    "genre_counts = df_movies['genres'].explode().value_counts()\n",
    "\n",
    "# Display the genre counts\n",
    "print(genre_counts)\n"
   ]
  },
  {
   "cell_type": "code",
   "execution_count": 40,
   "id": "b398241e-4ce9-40a2-9f55-1128857741d4",
   "metadata": {
    "tags": []
   },
   "outputs": [
    {
     "name": "stdout",
     "output_type": "stream",
     "text": [
      "Number of movies in Action genre: 53984\n",
      "Number of movies in Comedy genre: 109316\n"
     ]
    }
   ],
   "source": [
    "action_count = genre_counts.get('Action', 0)\n",
    "comedy_count = genre_counts.get('Comedy', 0)\n",
    "\n",
    "# Display the counts\n",
    "print(\"Number of movies in Action genre:\", action_count)\n",
    "print(\"Number of movies in Comedy genre:\", comedy_count)"
   ]
  },
  {
   "cell_type": "code",
   "execution_count": 42,
   "id": "cfad27cb-d0ff-4356-b3b8-ae4936b192a2",
   "metadata": {},
   "outputs": [
    {
     "data": {
      "image/png": "[encoded data removed]",
      "text/plain": [
       "<Figure size 1000x1000 with 1 Axes>"
      ]
     },
     "metadata": {},
     "output_type": "display_data"
    }
   ],
   "source": [
    "# plotting a bar chart for TitleType and it's count\n",
    "\n",
    "ax = sns.countplot(x = 'titleType',data = df2)\n",
    "sns.set(rc={'figure.figsize':(5,10)})\n",
    "\n",
    "for bars in ax.containers:\n",
    "    ax.bar_label(bars)"
   ]
  },
  {
   "cell_type": "code",
   "execution_count": 19,
   "id": "b2dbd912-841b-414d-8504-db48fc40d153",
   "metadata": {
    "tags": []
   },
   "outputs": [
    {
     "name": "stdout",
     "output_type": "stream",
     "text": [
      "Lowest start year: 1874.0\n"
     ]
    }
   ],
   "source": [
    "# Convert 'startYear' column to numeric data type\n",
    "df2['startYear'] = pd.to_numeric(df2['startYear'], errors='coerce')\n",
    "\n",
    "# Get the lowest value of 'startYear'\n",
    "lowest_start_year = df2['startYear'].min()\n",
    "\n",
    "# Display the lowest start year\n",
    "print(\"Lowest start year:\", lowest_start_year)"
   ]
  },
  {
   "cell_type": "code",
   "execution_count": 45,
   "id": "d97b99fd-a9e7-492c-a78f-7f8d7b8b331c",
   "metadata": {
    "tags": []
   },
   "outputs": [
    {
     "name": "stdout",
     "output_type": "stream",
     "text": [
      "Highest start year: 2030.0\n"
     ]
    }
   ],
   "source": [
    "# Convert 'startYear' column to numeric data type\n",
    "df2['startYear'] = pd.to_numeric(df2['startYear'], errors='coerce')\n",
    "\n",
    "# Get the highest value of 'startYear'\n",
    "highest_start_year = df2['startYear'].max()\n",
    "\n",
    "# Display the highest start year\n",
    "print(\"Highest start year:\", highest_start_year)"
   ]
  },
  {
   "cell_type": "code",
   "execution_count": 46,
   "id": "2a2b87ca-25da-4022-94ba-0605778ec114",
   "metadata": {
    "tags": []
   },
   "outputs": [
    {
     "name": "stdout",
     "output_type": "stream",
     "text": [
      "Number of movies from start year 1874 to 2030: 556033\n"
     ]
    }
   ],
   "source": [
    "# Filter rows with 'titleType' as 'movie' and start year within the desired range\n",
    "df_movies = df2[(df2['titleType'] == 'movie') & (df2['startYear'].between(1874, 2030))]\n",
    "\n",
    "# Get the number of movies\n",
    "num_movies = len(df_movies)\n",
    "\n",
    "# Display the number of movies\n",
    "print(\"Number of movies from start year 1874 to 2030:\", num_movies)"
   ]
  },
  {
   "cell_type": "code",
   "execution_count": 47,
   "id": "66a16342-c8f7-4b85-9184-7a02d318930c",
   "metadata": {
    "tags": []
   },
   "outputs": [
    {
     "name": "stdout",
     "output_type": "stream",
     "text": [
      "Number of movies with start year not mentioned: 91191\n"
     ]
    }
   ],
   "source": [
    "# Filter rows with 'titleType' as 'movie' and start year is null or not mentioned\n",
    "df_movies = df2[(df2['titleType'] == 'movie') & (df2['startYear'].isnull())]\n",
    "\n",
    "# Get the number of movies\n",
    "num_movies = len(df_movies)\n",
    "\n",
    "# Display the number of movies\n",
    "print(\"Number of movies with start year not mentioned:\", num_movies)"
   ]
  },
  {
   "cell_type": "code",
   "execution_count": 48,
   "id": "de2be82d-7181-47be-8431-ea5d3af1dfb4",
   "metadata": {
    "tags": []
   },
   "outputs": [
    {
     "name": "stdout",
     "output_type": "stream",
     "text": [
      "Total number of movies with start year after 1999: 303158\n"
     ]
    }
   ],
   "source": [
    "\n",
    "\n",
    "# Filter rows with 'titleType' as 'movie' and start year after 1999\n",
    "df_movies = df2[(df2['titleType'] == 'movie') & (df2['startYear'] > 1999)]\n",
    "\n",
    "# Get the total number of movies\n",
    "total_movies = len(df_movies)\n",
    "\n",
    "# Display the total number of movies\n",
    "print(\"Total number of movies with start year after 1999:\", total_movies)"
   ]
  },
  {
   "cell_type": "code",
   "execution_count": 49,
   "id": "d5b9d321-c00e-487a-8db2-057b18931dcc",
   "metadata": {
    "tags": []
   },
   "outputs": [
    {
     "name": "stdout",
     "output_type": "stream",
     "text": [
      "Total number of movies with start year from 2000 to 2010: 88029\n"
     ]
    }
   ],
   "source": [
    "# Filter rows with 'titleType' as 'movie' and start year between 2000 and 2010\n",
    "df_movies = df2[(df2['titleType'] == 'movie') & (df2['startYear'] > 1999) & (df2['startYear'] < 2011)]\n",
    "\n",
    "# Get the total number of movies\n",
    "total_movies = len(df_movies)\n",
    "\n",
    "# Display the total number of movies\n",
    "print(\"Total number of movies with start year from 2000 to 2010:\", total_movies)\n"
   ]
  },
  {
   "cell_type": "code",
   "execution_count": 50,
   "id": "760bb705-0094-4abc-a027-937a9c9c9e37",
   "metadata": {
    "tags": []
   },
   "outputs": [
    {
     "name": "stdout",
     "output_type": "stream",
     "text": [
      "Total number of movies with start year from 2011 to 2020: 167011\n"
     ]
    }
   ],
   "source": [
    "# Filter rows with 'titleType' as 'movie' and start year between 2000 and 2010\n",
    "df_movies = df2[(df2['titleType'] == 'movie') & (df2['startYear'] > 2010) & (df2['startYear'] < 2021)]\n",
    "\n",
    "# Get the total number of movies\n",
    "total_movies = len(df_movies)\n",
    "\n",
    "# Display the total number of movies\n",
    "print(\"Total number of movies with start year from 2011 to 2020:\", total_movies)"
   ]
  },
  {
   "cell_type": "code",
   "execution_count": 51,
   "id": "ae809f20-e6b4-45ae-ac88-1c602c0bf38b",
   "metadata": {
    "tags": []
   },
   "outputs": [
    {
     "name": "stdout",
     "output_type": "stream",
     "text": [
      "Total number of movies with start year from 2021 to 2023: 47291\n"
     ]
    }
   ],
   "source": [
    "# Filter rows with 'titleType' as 'movie' and start year between 2000 and 2010\n",
    "df_movies = df2[(df2['titleType'] == 'movie') & (df2['startYear'] > 2020) & (df2['startYear'] < 2024)]\n",
    "\n",
    "# Get the total number of movies\n",
    "total_movies = len(df_movies)\n",
    "\n",
    "# Display the total number of movies\n",
    "print(\"Total number of movies with start year from 2021 to 2023:\", total_movies)"
   ]
  },
  {
   "cell_type": "code",
   "execution_count": 52,
   "id": "690305b5-aec5-463c-aa7a-86d4ef2a12de",
   "metadata": {
    "tags": []
   },
   "outputs": [
    {
     "name": "stdout",
     "output_type": "stream",
     "text": [
      "Total number of movies with start year before 1999: 247889\n"
     ]
    }
   ],
   "source": [
    "# Convert 'startYear' column to numeric data type\n",
    "df2['startYear'] = pd.to_numeric(df2['startYear'], errors='coerce')\n",
    "\n",
    "# Filter rows with 'titleType' as 'movie' and start year before 1999\n",
    "df_movies = df2[(df2['titleType'] == 'movie') & (df2['startYear'] < 1999)]\n",
    "\n",
    "# Get the total number of movies\n",
    "total_movies = len(df_movies)\n",
    "\n",
    "# Display the total number of movies\n",
    "print(\"Total number of movies with start year before 1999:\", total_movies)\n"
   ]
  },
  {
   "cell_type": "code",
   "execution_count": 53,
   "id": "5d410741-e4e6-4d88-b7d0-f67c648c2f53",
   "metadata": {
    "tags": []
   },
   "outputs": [
    {
     "name": "stdout",
     "output_type": "stream",
     "text": [
      "Total number of movies with start year on 1999: 4986\n"
     ]
    }
   ],
   "source": [
    "# Filter rows with 'titleType' as 'movie' and start year on 1999\n",
    "df_movies = df2[(df2['titleType'] == 'movie') & (df2['startYear'] == 1999)]\n",
    "\n",
    "# Get the total number of movies\n",
    "total_movies = len(df_movies)\n",
    "\n",
    "# Display the total number of movies\n",
    "print(\"Total number of movies with start year on 1999:\", total_movies)"
   ]
  },
  {
   "cell_type": "code",
   "execution_count": 54,
   "id": "70f0f802-d68d-4973-a710-7f286dc61b2f",
   "metadata": {
    "tags": []
   },
   "outputs": [
    {
     "name": "stdout",
     "output_type": "stream",
     "text": [
      "Start year with the most number of movies: 1999.0\n",
      "Number of movies: 4986\n"
     ]
    }
   ],
   "source": [
    "# Count the number of movies for each start year\n",
    "start_year_counts = df_movies['startYear'].value_counts()\n",
    "\n",
    "# Get the start year with the most number of movies\n",
    "most_common_start_year = start_year_counts.idxmax()\n",
    "\n",
    "# Get the count of movies for the most common start year\n",
    "most_common_start_year_count = start_year_counts.max()\n",
    "\n",
    "# Display the start year with the most number of movies and its count\n",
    "print(\"Start year with the most number of movies:\", most_common_start_year)\n",
    "print(\"Number of movies:\", most_common_start_year_count)"
   ]
  },
  {
   "cell_type": "code",
   "execution_count": 55,
   "id": "67194cb7-8621-4584-8bea-15a575db2cca",
   "metadata": {},
   "outputs": [],
   "source": [
    "\n",
    "df2 = pd.read_csv('basics.tsv',sep='\\t', dtype={4: str})\n",
    "df2 = df2.merge(df1[['tconst']], on='tconst', how='left').sort_values(by='tconst')\n",
    "df2 = df2.merge(df1, on='tconst', how='left')\n",
    "\n",
    "df2.to_csv('updated_file2.tsv', sep='\\t', index=False)\n"
   ]
  },
  {
   "cell_type": "code",
   "execution_count": 56,
   "id": "535a598d-702a-4817-97ee-98af60560f9a",
   "metadata": {
    "tags": []
   },
   "outputs": [
    {
     "name": "stdout",
     "output_type": "stream",
     "text": [
      "tconst             object\n",
      "titleType          object\n",
      "primaryTitle       object\n",
      "originalTitle      object\n",
      "isAdult            object\n",
      "startYear          object\n",
      "endYear            object\n",
      "runtimeMinutes     object\n",
      "genres             object\n",
      "averageRating     float64\n",
      "numVotes          float64\n",
      "dtype: object\n"
     ]
    }
   ],
   "source": [
    "print(df2.dtypes)\n"
   ]
  },
  {
   "cell_type": "markdown",
   "id": "4d117e0d-a9f3-42b9-a82f-ed908885e191",
   "metadata": {
    "tags": []
   },
   "source": [
    "df2['runtimeMinutes'] = df2['runtimeMinutes'].astype(int)\n",
    "\n",
    "# Filter rows with 'titleType' as 'movie', runtimeMinutes > 100, and averageRating > 7\n",
    "df_movies = df2[(df2['titleType'] == 'movie') & (df2['runtimeMinutes'] > 100) & (df2['averageRating'] > 7)]\n",
    "\n",
    "# Get the number of movies\n",
    "num_movies = len(df_movies)\n",
    "\n",
    "# Display the number of movies\n",
    "print(\"Number of movies with runtime > 100 minutes and averageRating > 7:\", num_movies)\n"
   ]
  },
  {
   "cell_type": "code",
   "execution_count": 57,
   "id": "1f39d5a5-3816-4274-b5a3-3a573e772f49",
   "metadata": {
    "tags": []
   },
   "outputs": [
    {
     "name": "stderr",
     "output_type": "stream",
     "text": [
      "C:\\Users\\udyan\\AppData\\Local\\Temp\\ipykernel_3020\\949984544.py:11: SettingWithCopyWarning: \n",
      "A value is trying to be set on a copy of a slice from a DataFrame.\n",
      "Try using .loc[row_indexer,col_indexer] = value instead\n",
      "\n",
      "See the caveats in the documentation: https://pandas.pydata.org/pandas-docs/stable/user_guide/indexing.html#returning-a-view-versus-a-copy\n",
      "  df_movies['runtimeMinutes'] = df_movies['runtimeMinutes'].astype('Int64')\n"
     ]
    },
    {
     "name": "stdout",
     "output_type": "stream",
     "text": [
      "Number of movies with runtime > 100 minutes and averageRating > 7: 18438\n"
     ]
    }
   ],
   "source": [
    "#Number of movies with runtime > 100 minutes and averageRating \n",
    "# Replace '\\\\N' values with NaN\n",
    "df2['runtimeMinutes'] = df2['runtimeMinutes'].replace('\\\\N', np.nan)\n",
    "\n",
    "# Convert 'runtimeMinutes' column to float (excluding non-numeric values)\n",
    "df2['runtimeMinutes'] = pd.to_numeric(df2['runtimeMinutes'], errors='coerce')\n",
    "\n",
    "# Filter rows with non-numeric runtimeMinutes values\n",
    "df_movies = df2[df2['runtimeMinutes'].notna()]\n",
    "\n",
    "# Convert 'runtimeMinutes' column to integers\n",
    "df_movies['runtimeMinutes'] = df_movies['runtimeMinutes'].astype('Int64')\n",
    "\n",
    "# Filter rows with 'titleType' as 'movie', runtimeMinutes > 100, and averageRating > 7\n",
    "df_filtered = df_movies[(df_movies['titleType'] == 'movie') & (df_movies['runtimeMinutes'] > 100) & (df_movies['averageRating'] > 7)]\n",
    "\n",
    "# Get the number of movies\n",
    "num_movies = len(df_filtered)\n",
    "\n",
    "# Display the number of movies\n",
    "print(\"Number of movies with runtime > 100 minutes and averageRating > 7:\", num_movies)\n",
    "\n",
    "\n"
   ]
  },
  {
   "cell_type": "code",
   "execution_count": 58,
   "id": "107fe830-a208-431f-9d85-b369500968af",
   "metadata": {
    "tags": []
   },
   "outputs": [
    {
     "name": "stdout",
     "output_type": "stream",
     "text": [
      "Number of movies with runtime > 100 minutes and averageRating < 7: 41234\n"
     ]
    }
   ],
   "source": [
    "#Filter rows with 'titleType' as 'movie', runtimeMinutes > 100, and averageRating > 7\n",
    "df_filtered = df_movies[(df_movies['titleType'] == 'movie') & (df_movies['runtimeMinutes'] > 100) & (df_movies['averageRating'] < 7)]\n",
    "\n",
    "# Get the number of movies\n",
    "num_movies = len(df_filtered)\n",
    "\n",
    "# Display the number of movies\n",
    "print(\"Number of movies with runtime > 100 minutes and averageRating < 7:\", num_movies)\n"
   ]
  },
  {
   "cell_type": "code",
   "execution_count": 59,
   "id": "38078c57-e405-43e7-a7cd-50f76fc3a206",
   "metadata": {
    "tags": []
   },
   "outputs": [
    {
     "name": "stdout",
     "output_type": "stream",
     "text": [
      "Number of movies with averageRating > 7: 62684\n"
     ]
    }
   ],
   "source": [
    "# Filter rows with 'titleType' as 'movie' and averageRating > 7\n",
    "df_movies = df2[(df2['titleType'] == 'movie') & (df2['averageRating'] > 7)]\n",
    "\n",
    "# Get the number of movies\n",
    "num_movies = len(df_movies)\n",
    "\n",
    "# Display the number of movies\n",
    "print(\"Number of movies with averageRating > 7:\", num_movies)"
   ]
  },
  {
   "cell_type": "code",
   "execution_count": 60,
   "id": "73cd316e-e6c3-4ddd-bdd3-80ea77fb242a",
   "metadata": {
    "tags": []
   },
   "outputs": [
    {
     "name": "stdout",
     "output_type": "stream",
     "text": [
      "Number of movies with averageRating < 7: 177498\n"
     ]
    }
   ],
   "source": [
    "# Filter rows with 'titleType' as 'movie' and averageRating < 7\n",
    "df_movies = df2[(df2['titleType'] == 'movie') & (df2['averageRating'] < 7)]\n",
    "\n",
    "# Get the number of movies\n",
    "num_movies = len(df_movies)\n",
    "\n",
    "# Display the number of movies\n",
    "print(\"Number of movies with averageRating < 7:\", num_movies)"
   ]
  },
  {
   "cell_type": "code",
   "execution_count": 61,
   "id": "4fa438a1-5979-47b0-95e7-6f5783a774cf",
   "metadata": {
    "tags": []
   },
   "outputs": [
    {
     "data": {
      "text/plain": [
       "Index(['tconst', 'titleType', 'primaryTitle', 'originalTitle', 'isAdult',\n",
       "       'startYear', 'endYear', 'runtimeMinutes', 'genres', 'averageRating',\n",
       "       'numVotes'],\n",
       "      dtype='object')"
      ]
     },
     "execution_count": 61,
     "metadata": {},
     "output_type": "execute_result"
    }
   ],
   "source": [
    "df2.columns"
   ]
  },
  {
   "cell_type": "code",
   "execution_count": 79,
   "id": "3c8d0ae3-1895-437e-851c-bd3f85cc9e66",
   "metadata": {
    "tags": []
   },
   "outputs": [
    {
     "name": "stdout",
     "output_type": "stream",
     "text": [
      "Number of movies with averageRating == 7: 7260\n"
     ]
    }
   ],
   "source": [
    "# Filter rows with 'titleType' as 'movie' and averageRating == 7\n",
    "df_movies = df2[(df2['titleType'] == 'movie') & (df2['averageRating'] == 7)]\n",
    "\n",
    "# Get the number of movies\n",
    "num_movies = len(df_movies)\n",
    "\n",
    "# Display the number of movies\n",
    "print(\"Number of movies with averageRating == 7:\", num_movies)"
   ]
  },
  {
   "cell_type": "code",
   "execution_count": null,
   "id": "20df65d2-a6bb-4f64-a8af-eb811a0cfaac",
   "metadata": {},
   "outputs": [],
   "source": []
  },
  {
   "cell_type": "code",
   "execution_count": 62,
   "id": "bcdbf17c-bd2f-47d7-9cfb-525a58b1b5c4",
   "metadata": {},
   "outputs": [
    {
     "name": "stdout",
     "output_type": "stream",
     "text": [
      "Number of movies without averageRating: 399782\n"
     ]
    }
   ],
   "source": [
    "df_movies = df2[(df2['titleType'] == 'movie') & (df2['averageRating'].isnull())]\n",
    "\n",
    "# Get the number of movies\n",
    "num_movies = len(df_movies)\n",
    "\n",
    "# Display the number of movies\n",
    "print(\"Number of movies without averageRating:\", num_movies)"
   ]
  },
  {
   "cell_type": "code",
   "execution_count": 63,
   "id": "afb91fc8-2f6b-4a43-9a20-00666fa507c9",
   "metadata": {
    "tags": []
   },
   "outputs": [
    {
     "name": "stdout",
     "output_type": "stream",
     "text": [
      "Number of movies with averageRating: 247442\n"
     ]
    }
   ],
   "source": [
    "df_movies = df2[(df2['titleType'] == 'movie') & (~df2['averageRating'].isnull())]\n",
    "\n",
    "# Get the number of movies with averageRating\n",
    "num_movies = len(df_movies)\n",
    "\n",
    "# Display the number of movies\n",
    "print(\"Number of movies with averageRating:\", num_movies)"
   ]
  },
  {
   "cell_type": "code",
   "execution_count": null,
   "id": "86bc2194-37aa-4fbd-80bb-63d737b8e787",
   "metadata": {},
   "outputs": [],
   "source": [
    "# Read the Third TSV file into a DataFrame\n",
    "df3 = pd.read_csv('principals.tsv', sep='\\t')"
   ]
  },
  {
   "cell_type": "code",
   "execution_count": 65,
   "id": "b5ab4666-9db4-4571-94be-ab849d68d824",
   "metadata": {},
   "outputs": [
    {
     "data": {
      "text/plain": [
       "Index(['tconst', 'ordering', 'nconst', 'category', 'job', 'characters'], dtype='object')"
      ]
     },
     "execution_count": 65,
     "metadata": {},
     "output_type": "execute_result"
    }
   ],
   "source": [
    "df3.columns"
   ]
  },
  {
   "cell_type": "code",
   "execution_count": 66,
   "id": "5694a7a0-52ef-4529-b3af-740caaa6a6fd",
   "metadata": {
    "tags": []
   },
   "outputs": [
    {
     "data": {
      "text/plain": [
       "<bound method NDFrame.head of              tconst  ordering     nconst         category   \n",
       "0         tt0000001         1  nm1588970             self  \\\n",
       "1         tt0000001         2  nm0005690         director   \n",
       "2         tt0000001         3  nm0374658  cinematographer   \n",
       "3         tt0000002         1  nm0721526         director   \n",
       "4         tt0000002         2  nm1335271         composer   \n",
       "...             ...       ...        ...              ...   \n",
       "56460216  tt9916880         5  nm0996406         director   \n",
       "56460217  tt9916880         6  nm0584014         director   \n",
       "56460218  tt9916880         7  nm1482639           writer   \n",
       "56460219  tt9916880         8  nm2586970           writer   \n",
       "56460220  tt9916880         9  nm1594058         producer   \n",
       "\n",
       "                              job characters  \n",
       "0                              \\N   [\"Self\"]  \n",
       "1                              \\N         \\N  \n",
       "2         director of photography         \\N  \n",
       "3                              \\N         \\N  \n",
       "4                              \\N         \\N  \n",
       "...                           ...        ...  \n",
       "56460216       principal director         \\N  \n",
       "56460217                       \\N         \\N  \n",
       "56460218                       \\N         \\N  \n",
       "56460219                    books         \\N  \n",
       "56460220                 producer         \\N  \n",
       "\n",
       "[56460221 rows x 6 columns]>"
      ]
     },
     "execution_count": 66,
     "metadata": {},
     "output_type": "execute_result"
    }
   ],
   "source": [
    "df3.head        "
   ]
  },
  {
   "cell_type": "code",
   "execution_count": 67,
   "id": "a3172b84-ed18-436f-a981-1ac3b8e73b9c",
   "metadata": {
    "tags": []
   },
   "outputs": [
    {
     "data": {
      "text/plain": [
       "(56460221, 6)"
      ]
     },
     "execution_count": 67,
     "metadata": {},
     "output_type": "execute_result"
    }
   ],
   "source": [
    "df3.shape"
   ]
  },
  {
   "cell_type": "code",
   "execution_count": 68,
   "id": "97ba9fe3-8299-4b33-ac7c-90b5e378ffc0",
   "metadata": {
    "tags": []
   },
   "outputs": [
    {
     "name": "stdout",
     "output_type": "stream",
     "text": [
      "<class 'pandas.core.frame.DataFrame'>\n",
      "RangeIndex: 56460221 entries, 0 to 56460220\n",
      "Data columns (total 6 columns):\n",
      " #   Column      Dtype \n",
      "---  ------      ----- \n",
      " 0   tconst      object\n",
      " 1   ordering    int64 \n",
      " 2   nconst      object\n",
      " 3   category    object\n",
      " 4   job         object\n",
      " 5   characters  object\n",
      "dtypes: int64(1), object(5)\n",
      "memory usage: 2.5+ GB\n"
     ]
    }
   ],
   "source": [
    "df3.info()"
   ]
  },
  {
   "cell_type": "code",
   "execution_count": 69,
   "id": "c5d6fe38-b9e6-4558-a785-da47d2098e2d",
   "metadata": {
    "tags": []
   },
   "outputs": [
    {
     "name": "stdout",
     "output_type": "stream",
     "text": [
      "Total null values in characters column: 0\n"
     ]
    }
   ],
   "source": [
    "# Count the number of null values in the 'characters' column\n",
    "null_count = df3['characters'].isnull().sum()\n",
    "\n",
    "# Display the total number of null values\n",
    "print(\"Total null values in characters column:\", null_count)"
   ]
  },
  {
   "cell_type": "code",
   "execution_count": 70,
   "id": "6209f6a4-23b2-401e-9f83-9b24be138659",
   "metadata": {},
   "outputs": [
    {
     "name": "stdout",
     "output_type": "stream",
     "text": [
      "Number of '\\N' values in the 'characters' column: 29163172\n"
     ]
    }
   ],
   "source": [
    "# Count the number of '\\N' values in the 'characters' column\n",
    "num_backslash_n = (df3['characters'] == '\\\\N').sum()\n",
    "\n",
    "# Display the number of '\\N' values in the 'characters' column\n",
    "print(\"Number of '\\\\N' values in the 'characters' column:\", num_backslash_n)\n"
   ]
  },
  {
   "cell_type": "code",
   "execution_count": 71,
   "id": "4cb4a922-049e-48ab-90bb-cc968fc69f1a",
   "metadata": {
    "tags": []
   },
   "outputs": [
    {
     "name": "stdout",
     "output_type": "stream",
     "text": [
      "Number of '\\N' values in the 'job' column: 47184786\n"
     ]
    }
   ],
   "source": [
    "# Count the number of '\\N' values in the 'characters' column\n",
    "num_backslash_n = (df3['job'] == '\\\\N').sum()\n",
    "\n",
    "# Display the number of '\\N' values in the 'characters' column\n",
    "print(\"Number of '\\\\N' values in the 'job' column:\", num_backslash_n)\n"
   ]
  },
  {
   "cell_type": "code",
   "execution_count": 72,
   "id": "106351fc-573b-49e5-b051-4fe05e8b0789",
   "metadata": {
    "tags": []
   },
   "outputs": [
    {
     "name": "stdout",
     "output_type": "stream",
     "text": [
      "Number of unique categories: 12\n"
     ]
    }
   ],
   "source": [
    "# Count the number of unique categories in the 'category' column\n",
    "num_categories = df3['category'].nunique()\n",
    "\n",
    "# Display the number of unique categories\n",
    "print(\"Number of unique categories:\", num_categories)\n"
   ]
  },
  {
   "cell_type": "code",
   "execution_count": 73,
   "id": "11eb0fa4-a0c1-4794-bc23-e4c64487333b",
   "metadata": {
    "tags": []
   },
   "outputs": [
    {
     "name": "stdout",
     "output_type": "stream",
     "text": [
      "Unique categories: ['self' 'director' 'cinematographer' 'composer' 'producer' 'editor'\n",
      " 'actor' 'actress' 'writer' 'production_designer' 'archive_footage'\n",
      " 'archive_sound']\n"
     ]
    }
   ],
   "source": [
    "# Get the unique categories in the 'category' column\n",
    "unique_categories = df3['category'].unique()\n",
    "\n",
    "# Display the unique categories\n",
    "print(\"Unique categories:\", unique_categories)\n"
   ]
  },
  {
   "cell_type": "code",
   "execution_count": 23,
   "id": "9c4f4f09-6e3e-46c8-aa7f-b7e2a5cc4d15",
   "metadata": {
    "tags": []
   },
   "outputs": [
    {
     "name": "stdout",
     "output_type": "stream",
     "text": [
      "Number of unique categories: 39222\n"
     ]
    }
   ],
   "source": [
    "# Count the number of unique categories in the 'category' column\n",
    "num_categories = df3['job'].nunique()\n",
    "\n",
    "# Display the number of unique categories\n",
    "print(\"Number of unique categories:\", num_categories)\n"
   ]
  },
  {
   "cell_type": "code",
   "execution_count": 74,
   "id": "8e4bd0b2-6fbf-4e99-99ca-92c09eb88c66",
   "metadata": {
    "tags": []
   },
   "outputs": [
    {
     "name": "stdout",
     "output_type": "stream",
     "text": [
      "Unique categories: ['\\\\N' 'director of photography' 'producer' ...\n",
      " 'based on the original saga by' 'original idea/ scriptwriter'\n",
      " 'original screenplay \"Teorie tygra\"']\n"
     ]
    }
   ],
   "source": [
    "# Get the unique categories in the 'category' column\n",
    "unique_categories = df3['job'].unique()\n",
    "\n",
    "# Display the unique categories\n",
    "print(\"Unique categories:\", unique_categories)"
   ]
  },
  {
   "cell_type": "code",
   "execution_count": 8,
   "id": "2078baae-5cba-4a8a-825c-f2cf70d2c22a",
   "metadata": {
    "tags": []
   },
   "outputs": [],
   "source": [
    "# Read the Fourth TSV file into a DataFrame\n",
    "df4 = pd.read_csv('name.tsv', sep='\\t')"
   ]
  },
  {
   "cell_type": "code",
   "execution_count": 76,
   "id": "8cf740f9-2338-4414-9d33-3cc8ead01505",
   "metadata": {
    "tags": []
   },
   "outputs": [
    {
     "data": {
      "text/plain": [
       "Index(['nconst', 'primaryName', 'birthYear', 'deathYear', 'primaryProfession',\n",
       "       'knownForTitles'],\n",
       "      dtype='object')"
      ]
     },
     "execution_count": 76,
     "metadata": {},
     "output_type": "execute_result"
    }
   ],
   "source": [
    "df4.columns"
   ]
  },
  {
   "cell_type": "code",
   "execution_count": 10,
   "id": "354b16b7-7878-4abc-8842-39cede0c926b",
   "metadata": {
    "tags": []
   },
   "outputs": [
    {
     "data": {
      "text/html": [
       "<div>\n",
       "<style scoped>\n",
       "    .dataframe tbody tr th:only-of-type {\n",
       "        vertical-align: middle;\n",
       "    }\n",
       "\n",
       "    .dataframe tbody tr th {\n",
       "        vertical-align: top;\n",
       "    }\n",
       "\n",
       "    .dataframe thead th {\n",
       "        text-align: right;\n",
       "    }\n",
       "</style>\n",
       "<table border=\"1\" class=\"dataframe\">\n",
       "  <thead>\n",
       "    <tr style=\"text-align: right;\">\n",
       "      <th></th>\n",
       "      <th>nconst</th>\n",
       "      <th>primaryName</th>\n",
       "      <th>birthYear</th>\n",
       "      <th>deathYear</th>\n",
       "      <th>primaryProfession</th>\n",
       "      <th>knownForTitles</th>\n",
       "    </tr>\n",
       "  </thead>\n",
       "  <tbody>\n",
       "    <tr>\n",
       "      <th>0</th>\n",
       "      <td>nm0000001</td>\n",
       "      <td>Fred Astaire</td>\n",
       "      <td>1899</td>\n",
       "      <td>1987</td>\n",
       "      <td>soundtrack,actor,miscellaneous</td>\n",
       "      <td>tt0072308,tt0053137,tt0050419,tt0031983</td>\n",
       "    </tr>\n",
       "    <tr>\n",
       "      <th>1</th>\n",
       "      <td>nm0000002</td>\n",
       "      <td>Lauren Bacall</td>\n",
       "      <td>1924</td>\n",
       "      <td>2014</td>\n",
       "      <td>actress,soundtrack</td>\n",
       "      <td>tt0117057,tt0037382,tt0038355,tt0075213</td>\n",
       "    </tr>\n",
       "    <tr>\n",
       "      <th>2</th>\n",
       "      <td>nm0000003</td>\n",
       "      <td>Brigitte Bardot</td>\n",
       "      <td>1934</td>\n",
       "      <td>\\N</td>\n",
       "      <td>actress,soundtrack,music_department</td>\n",
       "      <td>tt0056404,tt0057345,tt0049189,tt0054452</td>\n",
       "    </tr>\n",
       "    <tr>\n",
       "      <th>3</th>\n",
       "      <td>nm0000004</td>\n",
       "      <td>John Belushi</td>\n",
       "      <td>1949</td>\n",
       "      <td>1982</td>\n",
       "      <td>actor,soundtrack,writer</td>\n",
       "      <td>tt0077975,tt0072562,tt0080455,tt0078723</td>\n",
       "    </tr>\n",
       "    <tr>\n",
       "      <th>4</th>\n",
       "      <td>nm0000005</td>\n",
       "      <td>Ingmar Bergman</td>\n",
       "      <td>1918</td>\n",
       "      <td>2007</td>\n",
       "      <td>writer,director,actor</td>\n",
       "      <td>tt0050976,tt0069467,tt0060827,tt0050986</td>\n",
       "    </tr>\n",
       "  </tbody>\n",
       "</table>\n",
       "</div>"
      ],
      "text/plain": [
       "      nconst      primaryName birthYear deathYear   \n",
       "0  nm0000001     Fred Astaire      1899      1987  \\\n",
       "1  nm0000002    Lauren Bacall      1924      2014   \n",
       "2  nm0000003  Brigitte Bardot      1934        \\N   \n",
       "3  nm0000004     John Belushi      1949      1982   \n",
       "4  nm0000005   Ingmar Bergman      1918      2007   \n",
       "\n",
       "                     primaryProfession   \n",
       "0       soundtrack,actor,miscellaneous  \\\n",
       "1                   actress,soundtrack   \n",
       "2  actress,soundtrack,music_department   \n",
       "3              actor,soundtrack,writer   \n",
       "4                writer,director,actor   \n",
       "\n",
       "                            knownForTitles  \n",
       "0  tt0072308,tt0053137,tt0050419,tt0031983  \n",
       "1  tt0117057,tt0037382,tt0038355,tt0075213  \n",
       "2  tt0056404,tt0057345,tt0049189,tt0054452  \n",
       "3  tt0077975,tt0072562,tt0080455,tt0078723  \n",
       "4  tt0050976,tt0069467,tt0060827,tt0050986  "
      ]
     },
     "execution_count": 10,
     "metadata": {},
     "output_type": "execute_result"
    }
   ],
   "source": [
    "df4.head()"
   ]
  },
  {
   "cell_type": "code",
   "execution_count": 11,
   "id": "e88838e7-9b37-4e8f-b465-da32ae86639d",
   "metadata": {},
   "outputs": [
    {
     "name": "stdout",
     "output_type": "stream",
     "text": [
      "              tconst  titleType                       primaryTitle   \n",
      "0          tt1997020  tvEpisode                      Episode #8.43  \\\n",
      "1          tt3006024      short                         Weightless   \n",
      "2          tt0924727  tvEpisode          O Surgimento Da Vagabanda   \n",
      "3          tt2026403  tvEpisode      Episode dated 13 October 2010   \n",
      "4         tt20258840  tvEpisode  Save My School 3: Vivat Lyceum 25   \n",
      "...              ...        ...                                ...   \n",
      "12183101   tt9916848  tvEpisode                      Episode #3.17   \n",
      "12183102   tt9916850  tvEpisode                      Episode #3.19   \n",
      "12183103   tt9916852  tvEpisode                      Episode #3.20   \n",
      "12183104   tt9916856      short                           The Wind   \n",
      "12183105   tt9916880  tvEpisode          Horrid Henry Knows It All   \n",
      "\n",
      "                              originalTitle isAdult startYear endYear   \n",
      "0                             Episode #8.43       0      2009      \\N  \\\n",
      "1                                Weightless       0      2013      \\N   \n",
      "2                 O Surgimento Da Vagabanda       0      2004      \\N   \n",
      "3             Episode dated 13 October 2010       0      2010      \\N   \n",
      "4         Save My School 3: Vivat Lyceum 25       0      2022      \\N   \n",
      "...                                     ...     ...       ...     ...   \n",
      "12183101                      Episode #3.17       0      2010      \\N   \n",
      "12183102                      Episode #3.19       0      2010      \\N   \n",
      "12183103                      Episode #3.20       0      2010      \\N   \n",
      "12183104                           The Wind       0      2015      \\N   \n",
      "12183105          Horrid Henry Knows It All       0      2014      \\N   \n",
      "\n",
      "         runtimeMinutes                      genres  averageRating  numVotes   \n",
      "0                    \\N                 Documentary           10.0      40.0  \\\n",
      "1                     6          Drama,Sci-Fi,Short           10.0       5.0   \n",
      "2                    \\N          Comedy,Drama,Music           10.0      31.0   \n",
      "3                    \\N                 Documentary           10.0      24.0   \n",
      "4                    \\N      Action,Biography,Crime           10.0       9.0   \n",
      "...                 ...                         ...            ...       ...   \n",
      "12183101             \\N         Action,Drama,Family            NaN       NaN   \n",
      "12183102             \\N         Action,Drama,Family            NaN       NaN   \n",
      "12183103             \\N         Action,Drama,Family            NaN       NaN   \n",
      "12183104             27                       Short            NaN       NaN   \n",
      "12183105             10  Adventure,Animation,Comedy            NaN       NaN   \n",
      "\n",
      "         primaryName primaryProfession  \n",
      "0                NaN               NaN  \n",
      "1                NaN               NaN  \n",
      "2                NaN               NaN  \n",
      "3                NaN               NaN  \n",
      "4                NaN               NaN  \n",
      "...              ...               ...  \n",
      "12183101         NaN               NaN  \n",
      "12183102         NaN               NaN  \n",
      "12183103         NaN               NaN  \n",
      "12183104         NaN               NaN  \n",
      "12183105         NaN               NaN  \n",
      "\n",
      "[12183106 rows x 13 columns]\n"
     ]
    }
   ],
   "source": [
    "# Split the 'knownForTitles' column in df4 to create multiple rows with individual tconst values\n",
    "df4_expanded = df4.assign(knownForTitles=df4['knownForTitles'].str.split(','))\n",
    "\n",
    "# Explode the 'knownForTitles' column to create multiple rows for each tconst value\n",
    "df4_expanded = df4_expanded.explode('knownForTitles')\n",
    "\n",
    "# Merge df2 and df4_expanded on 'tconst' and 'knownForTitles' columns\n",
    "merged_df = pd.merge(df2, df4_expanded[['knownForTitles', 'primaryName', 'primaryProfession']], left_on='tconst', right_on='knownForTitles', how='left')\n",
    "\n",
    "# Drop the 'knownForTitles' column from the merged DataFrame\n",
    "merged_df.drop('knownForTitles', axis=1, inplace=True)\n",
    "\n",
    "# Display the merged DataFrame\n",
    "print(merged_df)\n"
   ]
  },
  {
   "cell_type": "code",
   "execution_count": 17,
   "id": "1b98c5bb-d9c6-4f51-93a3-cccd94f713d1",
   "metadata": {
    "tags": []
   },
   "outputs": [
    {
     "name": "stdout",
     "output_type": "stream",
     "text": [
      "           tconst                                        primaryName   \n",
      "11270  tt16747572                                                     \\\n",
      "4267    tt0111161  Stephen King, Clancy Brown, Frank Darabont, Ma...   \n",
      "6066    tt0259534  Makoto Arai, Sean Brennan, Ikkô Kobayashi, Ram...   \n",
      "1623    tt0068646  Marlon Brando, Nino Rota, Al Pacino, Francis F...   \n",
      "5984    tt0252487                                     Halit Akçatepe   \n",
      "5954    tt0249795  Anand, Bhaktavatsalam, Nageshwara Rao C., Gemi...   \n",
      "12752   tt2592910                                                      \n",
      "4041    tt0108052  Ralph Fiennes, Steven Spielberg, Liam Neeson, ...   \n",
      "762     tt0050083  Henry Fonda, Martin Balsam, Jack Klugman, Sidn...   \n",
      "5463    tt0167260  Liv Tyler, Sean Astin, Ian Holm, Elijah Wood, ...   \n",
      "11474  tt17592606                                                      \n",
      "1769    tt0071562  Nino Rota, Francis Ford Coppola, Kathleen Bell...   \n",
      "7935    tt0468569  Gary Oldman, Christian Bale, Michael Caine, Er...   \n",
      "4245    tt0110912  Samuel L. Jackson, Harvey Keitel, Quentin Tara...   \n",
      "5985    tt0252488  Halit Akçatepe, Leman Akçatepe, Rifat Ilgaz, M...   \n",
      "1930    tt0075143  Hussein Afify, Habib Ageli, Nicholas Amer, Bru...   \n",
      "6011    tt0253828  Ihsan Bilsev, Oktar Durukan, Günfer Feray, Nev...   \n",
      "5845    tt0237376                                    Dinesh Panicker   \n",
      "11187  tt16492678                                                      \n",
      "9736   tt11989890  Martin Elsbury, Alastair Fothergill, Keith Sch...   \n",
      "\n",
      "                                       primaryProfession titleType   \n",
      "11270                                                        movie  \\\n",
      "4267   writer,producer,actor, actor,soundtrack,produc...     movie   \n",
      "6066   editorial_department,editor, producer, animati...     movie   \n",
      "1623   actor,soundtrack,director, composer,soundtrack...     movie   \n",
      "5984                               actor,writer,director     movie   \n",
      "5954   miscellaneous,camera_department,costume_depart...     movie   \n",
      "12752                                                        movie   \n",
      "4041   actor,director,producer, producer,writer,direc...     movie   \n",
      "762    actor,producer,soundtrack, actor, actor,writer...     movie   \n",
      "5463   actress,producer,soundtrack, actor,producer,di...     movie   \n",
      "11474                                                        movie   \n",
      "1769   composer,soundtrack,music_department, producer...     movie   \n",
      "7935   actor,producer,soundtrack, actor,producer,soun...     movie   \n",
      "4245   actor,producer,soundtrack, actor,producer,soun...     movie   \n",
      "5985   actor,writer,director, actress, writer, compos...     movie   \n",
      "1930   editor, actor, actor, actor, actor, actor, act...     movie   \n",
      "6011   actor,writer,assistant_director, actor,assista...     movie   \n",
      "5845                                            producer     movie   \n",
      "11187                                                        movie   \n",
      "9736   editor,editorial_department, producer,director...     movie   \n",
      "\n",
      "                                            primaryTitle   \n",
      "11270                            The Silence of Swastika  \\\n",
      "4267                            The Shawshank Redemption   \n",
      "6066                 Ramayana: The Legend of Prince Rama   \n",
      "1623                                       The Godfather   \n",
      "5984                                     The Chaos Class   \n",
      "5954                                           Mayabazar   \n",
      "12752                             CM101MMXI Fundamentals   \n",
      "4041                                    Schindler's List   \n",
      "762                                         12 Angry Men   \n",
      "5463       The Lord of the Rings: The Return of the King   \n",
      "11474                                              Daman   \n",
      "1769                               The Godfather Part II   \n",
      "7935                                     The Dark Knight   \n",
      "4245                                        Pulp Fiction   \n",
      "5985                    The Chaos Class Failed the Class   \n",
      "1930                                         The Message   \n",
      "6011                                          Tosun Pasa   \n",
      "5845                                            Kireedam   \n",
      "11187  Demon Slayer: Kimetsu no Yaiba - Tsuzumi Mansi...   \n",
      "9736            David Attenborough: A Life on Our Planet   \n",
      "\n",
      "                                       originalTitle isAdult startYear   \n",
      "11270                        The Silence of Swastika       0      2021  \\\n",
      "4267                        The Shawshank Redemption       0      1994   \n",
      "6066             Ramayana: The Legend of Prince Rama       0      1993   \n",
      "1623                                   The Godfather       0      1972   \n",
      "5984                                  Hababam Sinifi       0      1975   \n",
      "5954                                     Maya Bazaar       0      1957   \n",
      "12752                         CM101MMXI Fundamentals       0      2013   \n",
      "4041                                Schindler's List       0      1993   \n",
      "762                                     12 Angry Men       0      1957   \n",
      "5463   The Lord of the Rings: The Return of the King       0      2003   \n",
      "11474                                          DAMaN       0      2022   \n",
      "1769                           The Godfather Part II       0      1974   \n",
      "7935                                 The Dark Knight       0      2008   \n",
      "4245                                    Pulp Fiction       0      1994   \n",
      "5985                    Hababam Sinifi Sinifta Kaldi       0      1975   \n",
      "1930                                      Al-risâlah       0      1976   \n",
      "6011                                      Tosun Pasa       0      1976   \n",
      "5845                                        Kireedam       0      1989   \n",
      "11187          Kimetsu no Yaiba: Tsuzumi Yashiki Hen       0      2021   \n",
      "9736        David Attenborough: A Life on Our Planet       0      2020   \n",
      "\n",
      "      endYear runtimeMinutes                      genres  averageRating   \n",
      "11270      \\N             56         Documentary,History            9.5  \\\n",
      "4267       \\N            142                       Drama            9.3   \n",
      "6066       \\N            135  Action,Adventure,Animation            9.2   \n",
      "1623       \\N            175                 Crime,Drama            9.2   \n",
      "5984       \\N             87                Comedy,Drama            9.2   \n",
      "5954       \\N            192                Comedy,Drama            9.1   \n",
      "12752      \\N            139          Comedy,Documentary            9.1   \n",
      "4041       \\N            195     Biography,Drama,History            9.0   \n",
      "762        \\N             96                 Crime,Drama            9.0   \n",
      "5463       \\N            201      Action,Adventure,Drama            9.0   \n",
      "11474      \\N            121             Adventure,Drama            9.0   \n",
      "1769       \\N            202                 Crime,Drama            9.0   \n",
      "7935       \\N            152          Action,Crime,Drama            9.0   \n",
      "4245       \\N            154                 Crime,Drama            8.9   \n",
      "5985       \\N             91                      Comedy            8.9   \n",
      "1930       \\N            207  Action,Adventure,Biography            8.9   \n",
      "6011       \\N             90                      Comedy            8.9   \n",
      "5845       \\N            124                Action,Drama            8.9   \n",
      "11187      \\N             87    Action,Animation,Fantasy            8.9   \n",
      "9736       \\N             83       Biography,Documentary            8.9   \n",
      "\n",
      "        numVotes  \n",
      "11270    10404.0  \n",
      "4267   2746741.0  \n",
      "6066      9767.0  \n",
      "1623   1910282.0  \n",
      "5984     41732.0  \n",
      "5954      5367.0  \n",
      "12752    46721.0  \n",
      "4041   1385592.0  \n",
      "762     813271.0  \n",
      "5463   1887759.0  \n",
      "11474    13289.0  \n",
      "1769   1301426.0  \n",
      "7935   2719327.0  \n",
      "4245   2110548.0  \n",
      "5985     23950.0  \n",
      "1930      9836.0  \n",
      "6011     23905.0  \n",
      "5845      7962.0  \n",
      "11187    18465.0  \n",
      "9736     33210.0  \n"
     ]
    }
   ],
   "source": [
    "df2 = pd.read_csv('basics.tsv', sep='\\t', dtype={4: str})\n",
    "df2 = df2.merge(df1[['tconst']], on='tconst', how='left').sort_values(by='tconst')\n",
    "df2 = df2.merge(df1, on='tconst', how='left')\n",
    "\n",
    "df2 = df2.sort_values(by='averageRating', ascending=False)\n",
    "\n",
    "df_movies = df2[df2['titleType'] == 'movie']\n",
    "df_movies = df_movies[df_movies['numVotes'] > 5000]\n",
    "\n",
    "df_movies.to_csv('updated_file2.tsv', sep='\\t', index=False)\n",
    "\n",
    "# Split the 'knownForTitles' column in df4 to create multiple rows with individual tconst values\n",
    "df4_expanded = df4.assign(knownForTitles=df4['knownForTitles'].str.split(','))\n",
    "\n",
    "# Explode the 'knownForTitles' column to create multiple rows for each tconst value\n",
    "df4_expanded = df4_expanded.explode('knownForTitles')\n",
    "\n",
    "# Merge df_movies and df4_expanded on 'tconst' and 'knownForTitles' columns\n",
    "merged_df_movies = pd.merge(df_movies, df4_expanded, left_on='tconst', right_on='knownForTitles', how='left')\n",
    "\n",
    "# Group by 'tconst' and concatenate the values of 'primaryName' and 'primaryProfession' with commas\n",
    "merged_df_movies = merged_df_movies.groupby('tconst').agg({\n",
    "    'primaryName': lambda x: ', '.join(str(i) for i in x if pd.notnull(i)),\n",
    "    'primaryProfession': lambda x: ', '.join(str(i) for i in x if pd.notnull(i)),\n",
    "    **{col: 'first' for col in df_movies.columns if col not in ['tconst', 'primaryName', 'primaryProfession']}\n",
    "}).reset_index()\n",
    "\n",
    "# Sort the merged DataFrame by 'averageRating' in descending order\n",
    "merged_df_movies = merged_df_movies.sort_values(by='averageRating', ascending=False)\n",
    "\n",
    "# Display the merged DataFrame for df_movies\n",
    "print(merged_df_movies.head(20))\n"
   ]
  },
  {
   "cell_type": "code",
   "execution_count": 18,
   "id": "ce8a747d-52aa-49d0-baef-77a0c5cb66ea",
   "metadata": {
    "tags": []
   },
   "outputs": [
    {
     "data": {
      "text/html": [
       "<div>\n",
       "<style scoped>\n",
       "    .dataframe tbody tr th:only-of-type {\n",
       "        vertical-align: middle;\n",
       "    }\n",
       "\n",
       "    .dataframe tbody tr th {\n",
       "        vertical-align: top;\n",
       "    }\n",
       "\n",
       "    .dataframe thead th {\n",
       "        text-align: right;\n",
       "    }\n",
       "</style>\n",
       "<table border=\"1\" class=\"dataframe\">\n",
       "  <thead>\n",
       "    <tr style=\"text-align: right;\">\n",
       "      <th></th>\n",
       "      <th>tconst</th>\n",
       "      <th>primaryName</th>\n",
       "      <th>primaryProfession</th>\n",
       "      <th>titleType</th>\n",
       "      <th>primaryTitle</th>\n",
       "      <th>originalTitle</th>\n",
       "      <th>isAdult</th>\n",
       "      <th>startYear</th>\n",
       "      <th>endYear</th>\n",
       "      <th>runtimeMinutes</th>\n",
       "      <th>genres</th>\n",
       "      <th>averageRating</th>\n",
       "      <th>numVotes</th>\n",
       "    </tr>\n",
       "  </thead>\n",
       "  <tbody>\n",
       "    <tr>\n",
       "      <th>11270</th>\n",
       "      <td>tt16747572</td>\n",
       "      <td></td>\n",
       "      <td></td>\n",
       "      <td>movie</td>\n",
       "      <td>The Silence of Swastika</td>\n",
       "      <td>The Silence of Swastika</td>\n",
       "      <td>0</td>\n",
       "      <td>2021</td>\n",
       "      <td>\\N</td>\n",
       "      <td>56</td>\n",
       "      <td>Documentary,History</td>\n",
       "      <td>9.5</td>\n",
       "      <td>10404.0</td>\n",
       "    </tr>\n",
       "    <tr>\n",
       "      <th>4267</th>\n",
       "      <td>tt0111161</td>\n",
       "      <td>Stephen King, Clancy Brown, Frank Darabont, Ma...</td>\n",
       "      <td>writer,producer,actor, actor,soundtrack,produc...</td>\n",
       "      <td>movie</td>\n",
       "      <td>The Shawshank Redemption</td>\n",
       "      <td>The Shawshank Redemption</td>\n",
       "      <td>0</td>\n",
       "      <td>1994</td>\n",
       "      <td>\\N</td>\n",
       "      <td>142</td>\n",
       "      <td>Drama</td>\n",
       "      <td>9.3</td>\n",
       "      <td>2746741.0</td>\n",
       "    </tr>\n",
       "    <tr>\n",
       "      <th>6066</th>\n",
       "      <td>tt0259534</td>\n",
       "      <td>Makoto Arai, Sean Brennan, Ikkô Kobayashi, Ram...</td>\n",
       "      <td>editorial_department,editor, producer, animati...</td>\n",
       "      <td>movie</td>\n",
       "      <td>Ramayana: The Legend of Prince Rama</td>\n",
       "      <td>Ramayana: The Legend of Prince Rama</td>\n",
       "      <td>0</td>\n",
       "      <td>1993</td>\n",
       "      <td>\\N</td>\n",
       "      <td>135</td>\n",
       "      <td>Action,Adventure,Animation</td>\n",
       "      <td>9.2</td>\n",
       "      <td>9767.0</td>\n",
       "    </tr>\n",
       "    <tr>\n",
       "      <th>1623</th>\n",
       "      <td>tt0068646</td>\n",
       "      <td>Marlon Brando, Nino Rota, Al Pacino, Francis F...</td>\n",
       "      <td>actor,soundtrack,director, composer,soundtrack...</td>\n",
       "      <td>movie</td>\n",
       "      <td>The Godfather</td>\n",
       "      <td>The Godfather</td>\n",
       "      <td>0</td>\n",
       "      <td>1972</td>\n",
       "      <td>\\N</td>\n",
       "      <td>175</td>\n",
       "      <td>Crime,Drama</td>\n",
       "      <td>9.2</td>\n",
       "      <td>1910282.0</td>\n",
       "    </tr>\n",
       "    <tr>\n",
       "      <th>5984</th>\n",
       "      <td>tt0252487</td>\n",
       "      <td>Halit Akçatepe</td>\n",
       "      <td>actor,writer,director</td>\n",
       "      <td>movie</td>\n",
       "      <td>The Chaos Class</td>\n",
       "      <td>Hababam Sinifi</td>\n",
       "      <td>0</td>\n",
       "      <td>1975</td>\n",
       "      <td>\\N</td>\n",
       "      <td>87</td>\n",
       "      <td>Comedy,Drama</td>\n",
       "      <td>9.2</td>\n",
       "      <td>41732.0</td>\n",
       "    </tr>\n",
       "    <tr>\n",
       "      <th>5954</th>\n",
       "      <td>tt0249795</td>\n",
       "      <td>Anand, Bhaktavatsalam, Nageshwara Rao C., Gemi...</td>\n",
       "      <td>miscellaneous,camera_department,costume_depart...</td>\n",
       "      <td>movie</td>\n",
       "      <td>Mayabazar</td>\n",
       "      <td>Maya Bazaar</td>\n",
       "      <td>0</td>\n",
       "      <td>1957</td>\n",
       "      <td>\\N</td>\n",
       "      <td>192</td>\n",
       "      <td>Comedy,Drama</td>\n",
       "      <td>9.1</td>\n",
       "      <td>5367.0</td>\n",
       "    </tr>\n",
       "    <tr>\n",
       "      <th>12752</th>\n",
       "      <td>tt2592910</td>\n",
       "      <td></td>\n",
       "      <td></td>\n",
       "      <td>movie</td>\n",
       "      <td>CM101MMXI Fundamentals</td>\n",
       "      <td>CM101MMXI Fundamentals</td>\n",
       "      <td>0</td>\n",
       "      <td>2013</td>\n",
       "      <td>\\N</td>\n",
       "      <td>139</td>\n",
       "      <td>Comedy,Documentary</td>\n",
       "      <td>9.1</td>\n",
       "      <td>46721.0</td>\n",
       "    </tr>\n",
       "    <tr>\n",
       "      <th>4041</th>\n",
       "      <td>tt0108052</td>\n",
       "      <td>Ralph Fiennes, Steven Spielberg, Liam Neeson, ...</td>\n",
       "      <td>actor,director,producer, producer,writer,direc...</td>\n",
       "      <td>movie</td>\n",
       "      <td>Schindler's List</td>\n",
       "      <td>Schindler's List</td>\n",
       "      <td>0</td>\n",
       "      <td>1993</td>\n",
       "      <td>\\N</td>\n",
       "      <td>195</td>\n",
       "      <td>Biography,Drama,History</td>\n",
       "      <td>9.0</td>\n",
       "      <td>1385592.0</td>\n",
       "    </tr>\n",
       "    <tr>\n",
       "      <th>762</th>\n",
       "      <td>tt0050083</td>\n",
       "      <td>Henry Fonda, Martin Balsam, Jack Klugman, Sidn...</td>\n",
       "      <td>actor,producer,soundtrack, actor, actor,writer...</td>\n",
       "      <td>movie</td>\n",
       "      <td>12 Angry Men</td>\n",
       "      <td>12 Angry Men</td>\n",
       "      <td>0</td>\n",
       "      <td>1957</td>\n",
       "      <td>\\N</td>\n",
       "      <td>96</td>\n",
       "      <td>Crime,Drama</td>\n",
       "      <td>9.0</td>\n",
       "      <td>813271.0</td>\n",
       "    </tr>\n",
       "    <tr>\n",
       "      <th>5463</th>\n",
       "      <td>tt0167260</td>\n",
       "      <td>Liv Tyler, Sean Astin, Ian Holm, Elijah Wood, ...</td>\n",
       "      <td>actress,producer,soundtrack, actor,producer,di...</td>\n",
       "      <td>movie</td>\n",
       "      <td>The Lord of the Rings: The Return of the King</td>\n",
       "      <td>The Lord of the Rings: The Return of the King</td>\n",
       "      <td>0</td>\n",
       "      <td>2003</td>\n",
       "      <td>\\N</td>\n",
       "      <td>201</td>\n",
       "      <td>Action,Adventure,Drama</td>\n",
       "      <td>9.0</td>\n",
       "      <td>1887759.0</td>\n",
       "    </tr>\n",
       "    <tr>\n",
       "      <th>11474</th>\n",
       "      <td>tt17592606</td>\n",
       "      <td></td>\n",
       "      <td></td>\n",
       "      <td>movie</td>\n",
       "      <td>Daman</td>\n",
       "      <td>DAMaN</td>\n",
       "      <td>0</td>\n",
       "      <td>2022</td>\n",
       "      <td>\\N</td>\n",
       "      <td>121</td>\n",
       "      <td>Adventure,Drama</td>\n",
       "      <td>9.0</td>\n",
       "      <td>13289.0</td>\n",
       "    </tr>\n",
       "    <tr>\n",
       "      <th>1769</th>\n",
       "      <td>tt0071562</td>\n",
       "      <td>Nino Rota, Francis Ford Coppola, Kathleen Bell...</td>\n",
       "      <td>composer,soundtrack,music_department, producer...</td>\n",
       "      <td>movie</td>\n",
       "      <td>The Godfather Part II</td>\n",
       "      <td>The Godfather Part II</td>\n",
       "      <td>0</td>\n",
       "      <td>1974</td>\n",
       "      <td>\\N</td>\n",
       "      <td>202</td>\n",
       "      <td>Crime,Drama</td>\n",
       "      <td>9.0</td>\n",
       "      <td>1301426.0</td>\n",
       "    </tr>\n",
       "    <tr>\n",
       "      <th>7935</th>\n",
       "      <td>tt0468569</td>\n",
       "      <td>Gary Oldman, Christian Bale, Michael Caine, Er...</td>\n",
       "      <td>actor,producer,soundtrack, actor,producer,soun...</td>\n",
       "      <td>movie</td>\n",
       "      <td>The Dark Knight</td>\n",
       "      <td>The Dark Knight</td>\n",
       "      <td>0</td>\n",
       "      <td>2008</td>\n",
       "      <td>\\N</td>\n",
       "      <td>152</td>\n",
       "      <td>Action,Crime,Drama</td>\n",
       "      <td>9.0</td>\n",
       "      <td>2719327.0</td>\n",
       "    </tr>\n",
       "    <tr>\n",
       "      <th>4245</th>\n",
       "      <td>tt0110912</td>\n",
       "      <td>Samuel L. Jackson, Harvey Keitel, Quentin Tara...</td>\n",
       "      <td>actor,producer,soundtrack, actor,producer,soun...</td>\n",
       "      <td>movie</td>\n",
       "      <td>Pulp Fiction</td>\n",
       "      <td>Pulp Fiction</td>\n",
       "      <td>0</td>\n",
       "      <td>1994</td>\n",
       "      <td>\\N</td>\n",
       "      <td>154</td>\n",
       "      <td>Crime,Drama</td>\n",
       "      <td>8.9</td>\n",
       "      <td>2110548.0</td>\n",
       "    </tr>\n",
       "    <tr>\n",
       "      <th>5985</th>\n",
       "      <td>tt0252488</td>\n",
       "      <td>Halit Akçatepe, Leman Akçatepe, Rifat Ilgaz, M...</td>\n",
       "      <td>actor,writer,director, actress, writer, compos...</td>\n",
       "      <td>movie</td>\n",
       "      <td>The Chaos Class Failed the Class</td>\n",
       "      <td>Hababam Sinifi Sinifta Kaldi</td>\n",
       "      <td>0</td>\n",
       "      <td>1975</td>\n",
       "      <td>\\N</td>\n",
       "      <td>91</td>\n",
       "      <td>Comedy</td>\n",
       "      <td>8.9</td>\n",
       "      <td>23950.0</td>\n",
       "    </tr>\n",
       "    <tr>\n",
       "      <th>1930</th>\n",
       "      <td>tt0075143</td>\n",
       "      <td>Hussein Afify, Habib Ageli, Nicholas Amer, Bru...</td>\n",
       "      <td>editor, actor, actor, actor, actor, actor, act...</td>\n",
       "      <td>movie</td>\n",
       "      <td>The Message</td>\n",
       "      <td>Al-risâlah</td>\n",
       "      <td>0</td>\n",
       "      <td>1976</td>\n",
       "      <td>\\N</td>\n",
       "      <td>207</td>\n",
       "      <td>Action,Adventure,Biography</td>\n",
       "      <td>8.9</td>\n",
       "      <td>9836.0</td>\n",
       "    </tr>\n",
       "    <tr>\n",
       "      <th>6011</th>\n",
       "      <td>tt0253828</td>\n",
       "      <td>Ihsan Bilsev, Oktar Durukan, Günfer Feray, Nev...</td>\n",
       "      <td>actor,writer,assistant_director, actor,assista...</td>\n",
       "      <td>movie</td>\n",
       "      <td>Tosun Pasa</td>\n",
       "      <td>Tosun Pasa</td>\n",
       "      <td>0</td>\n",
       "      <td>1976</td>\n",
       "      <td>\\N</td>\n",
       "      <td>90</td>\n",
       "      <td>Comedy</td>\n",
       "      <td>8.9</td>\n",
       "      <td>23905.0</td>\n",
       "    </tr>\n",
       "    <tr>\n",
       "      <th>5845</th>\n",
       "      <td>tt0237376</td>\n",
       "      <td>Dinesh Panicker</td>\n",
       "      <td>producer</td>\n",
       "      <td>movie</td>\n",
       "      <td>Kireedam</td>\n",
       "      <td>Kireedam</td>\n",
       "      <td>0</td>\n",
       "      <td>1989</td>\n",
       "      <td>\\N</td>\n",
       "      <td>124</td>\n",
       "      <td>Action,Drama</td>\n",
       "      <td>8.9</td>\n",
       "      <td>7962.0</td>\n",
       "    </tr>\n",
       "    <tr>\n",
       "      <th>11187</th>\n",
       "      <td>tt16492678</td>\n",
       "      <td></td>\n",
       "      <td></td>\n",
       "      <td>movie</td>\n",
       "      <td>Demon Slayer: Kimetsu no Yaiba - Tsuzumi Mansi...</td>\n",
       "      <td>Kimetsu no Yaiba: Tsuzumi Yashiki Hen</td>\n",
       "      <td>0</td>\n",
       "      <td>2021</td>\n",
       "      <td>\\N</td>\n",
       "      <td>87</td>\n",
       "      <td>Action,Animation,Fantasy</td>\n",
       "      <td>8.9</td>\n",
       "      <td>18465.0</td>\n",
       "    </tr>\n",
       "    <tr>\n",
       "      <th>9736</th>\n",
       "      <td>tt11989890</td>\n",
       "      <td>Martin Elsbury, Alastair Fothergill, Keith Sch...</td>\n",
       "      <td>editor,editorial_department, producer,director...</td>\n",
       "      <td>movie</td>\n",
       "      <td>David Attenborough: A Life on Our Planet</td>\n",
       "      <td>David Attenborough: A Life on Our Planet</td>\n",
       "      <td>0</td>\n",
       "      <td>2020</td>\n",
       "      <td>\\N</td>\n",
       "      <td>83</td>\n",
       "      <td>Biography,Documentary</td>\n",
       "      <td>8.9</td>\n",
       "      <td>33210.0</td>\n",
       "    </tr>\n",
       "  </tbody>\n",
       "</table>\n",
       "</div>"
      ],
      "text/plain": [
       "           tconst                                        primaryName   \n",
       "11270  tt16747572                                                     \\\n",
       "4267    tt0111161  Stephen King, Clancy Brown, Frank Darabont, Ma...   \n",
       "6066    tt0259534  Makoto Arai, Sean Brennan, Ikkô Kobayashi, Ram...   \n",
       "1623    tt0068646  Marlon Brando, Nino Rota, Al Pacino, Francis F...   \n",
       "5984    tt0252487                                     Halit Akçatepe   \n",
       "5954    tt0249795  Anand, Bhaktavatsalam, Nageshwara Rao C., Gemi...   \n",
       "12752   tt2592910                                                      \n",
       "4041    tt0108052  Ralph Fiennes, Steven Spielberg, Liam Neeson, ...   \n",
       "762     tt0050083  Henry Fonda, Martin Balsam, Jack Klugman, Sidn...   \n",
       "5463    tt0167260  Liv Tyler, Sean Astin, Ian Holm, Elijah Wood, ...   \n",
       "11474  tt17592606                                                      \n",
       "1769    tt0071562  Nino Rota, Francis Ford Coppola, Kathleen Bell...   \n",
       "7935    tt0468569  Gary Oldman, Christian Bale, Michael Caine, Er...   \n",
       "4245    tt0110912  Samuel L. Jackson, Harvey Keitel, Quentin Tara...   \n",
       "5985    tt0252488  Halit Akçatepe, Leman Akçatepe, Rifat Ilgaz, M...   \n",
       "1930    tt0075143  Hussein Afify, Habib Ageli, Nicholas Amer, Bru...   \n",
       "6011    tt0253828  Ihsan Bilsev, Oktar Durukan, Günfer Feray, Nev...   \n",
       "5845    tt0237376                                    Dinesh Panicker   \n",
       "11187  tt16492678                                                      \n",
       "9736   tt11989890  Martin Elsbury, Alastair Fothergill, Keith Sch...   \n",
       "\n",
       "                                       primaryProfession titleType   \n",
       "11270                                                        movie  \\\n",
       "4267   writer,producer,actor, actor,soundtrack,produc...     movie   \n",
       "6066   editorial_department,editor, producer, animati...     movie   \n",
       "1623   actor,soundtrack,director, composer,soundtrack...     movie   \n",
       "5984                               actor,writer,director     movie   \n",
       "5954   miscellaneous,camera_department,costume_depart...     movie   \n",
       "12752                                                        movie   \n",
       "4041   actor,director,producer, producer,writer,direc...     movie   \n",
       "762    actor,producer,soundtrack, actor, actor,writer...     movie   \n",
       "5463   actress,producer,soundtrack, actor,producer,di...     movie   \n",
       "11474                                                        movie   \n",
       "1769   composer,soundtrack,music_department, producer...     movie   \n",
       "7935   actor,producer,soundtrack, actor,producer,soun...     movie   \n",
       "4245   actor,producer,soundtrack, actor,producer,soun...     movie   \n",
       "5985   actor,writer,director, actress, writer, compos...     movie   \n",
       "1930   editor, actor, actor, actor, actor, actor, act...     movie   \n",
       "6011   actor,writer,assistant_director, actor,assista...     movie   \n",
       "5845                                            producer     movie   \n",
       "11187                                                        movie   \n",
       "9736   editor,editorial_department, producer,director...     movie   \n",
       "\n",
       "                                            primaryTitle   \n",
       "11270                            The Silence of Swastika  \\\n",
       "4267                            The Shawshank Redemption   \n",
       "6066                 Ramayana: The Legend of Prince Rama   \n",
       "1623                                       The Godfather   \n",
       "5984                                     The Chaos Class   \n",
       "5954                                           Mayabazar   \n",
       "12752                             CM101MMXI Fundamentals   \n",
       "4041                                    Schindler's List   \n",
       "762                                         12 Angry Men   \n",
       "5463       The Lord of the Rings: The Return of the King   \n",
       "11474                                              Daman   \n",
       "1769                               The Godfather Part II   \n",
       "7935                                     The Dark Knight   \n",
       "4245                                        Pulp Fiction   \n",
       "5985                    The Chaos Class Failed the Class   \n",
       "1930                                         The Message   \n",
       "6011                                          Tosun Pasa   \n",
       "5845                                            Kireedam   \n",
       "11187  Demon Slayer: Kimetsu no Yaiba - Tsuzumi Mansi...   \n",
       "9736            David Attenborough: A Life on Our Planet   \n",
       "\n",
       "                                       originalTitle isAdult startYear   \n",
       "11270                        The Silence of Swastika       0      2021  \\\n",
       "4267                        The Shawshank Redemption       0      1994   \n",
       "6066             Ramayana: The Legend of Prince Rama       0      1993   \n",
       "1623                                   The Godfather       0      1972   \n",
       "5984                                  Hababam Sinifi       0      1975   \n",
       "5954                                     Maya Bazaar       0      1957   \n",
       "12752                         CM101MMXI Fundamentals       0      2013   \n",
       "4041                                Schindler's List       0      1993   \n",
       "762                                     12 Angry Men       0      1957   \n",
       "5463   The Lord of the Rings: The Return of the King       0      2003   \n",
       "11474                                          DAMaN       0      2022   \n",
       "1769                           The Godfather Part II       0      1974   \n",
       "7935                                 The Dark Knight       0      2008   \n",
       "4245                                    Pulp Fiction       0      1994   \n",
       "5985                    Hababam Sinifi Sinifta Kaldi       0      1975   \n",
       "1930                                      Al-risâlah       0      1976   \n",
       "6011                                      Tosun Pasa       0      1976   \n",
       "5845                                        Kireedam       0      1989   \n",
       "11187          Kimetsu no Yaiba: Tsuzumi Yashiki Hen       0      2021   \n",
       "9736        David Attenborough: A Life on Our Planet       0      2020   \n",
       "\n",
       "      endYear runtimeMinutes                      genres  averageRating   \n",
       "11270      \\N             56         Documentary,History            9.5  \\\n",
       "4267       \\N            142                       Drama            9.3   \n",
       "6066       \\N            135  Action,Adventure,Animation            9.2   \n",
       "1623       \\N            175                 Crime,Drama            9.2   \n",
       "5984       \\N             87                Comedy,Drama            9.2   \n",
       "5954       \\N            192                Comedy,Drama            9.1   \n",
       "12752      \\N            139          Comedy,Documentary            9.1   \n",
       "4041       \\N            195     Biography,Drama,History            9.0   \n",
       "762        \\N             96                 Crime,Drama            9.0   \n",
       "5463       \\N            201      Action,Adventure,Drama            9.0   \n",
       "11474      \\N            121             Adventure,Drama            9.0   \n",
       "1769       \\N            202                 Crime,Drama            9.0   \n",
       "7935       \\N            152          Action,Crime,Drama            9.0   \n",
       "4245       \\N            154                 Crime,Drama            8.9   \n",
       "5985       \\N             91                      Comedy            8.9   \n",
       "1930       \\N            207  Action,Adventure,Biography            8.9   \n",
       "6011       \\N             90                      Comedy            8.9   \n",
       "5845       \\N            124                Action,Drama            8.9   \n",
       "11187      \\N             87    Action,Animation,Fantasy            8.9   \n",
       "9736       \\N             83       Biography,Documentary            8.9   \n",
       "\n",
       "        numVotes  \n",
       "11270    10404.0  \n",
       "4267   2746741.0  \n",
       "6066      9767.0  \n",
       "1623   1910282.0  \n",
       "5984     41732.0  \n",
       "5954      5367.0  \n",
       "12752    46721.0  \n",
       "4041   1385592.0  \n",
       "762     813271.0  \n",
       "5463   1887759.0  \n",
       "11474    13289.0  \n",
       "1769   1301426.0  \n",
       "7935   2719327.0  \n",
       "4245   2110548.0  \n",
       "5985     23950.0  \n",
       "1930      9836.0  \n",
       "6011     23905.0  \n",
       "5845      7962.0  \n",
       "11187    18465.0  \n",
       "9736     33210.0  "
      ]
     },
     "execution_count": 18,
     "metadata": {},
     "output_type": "execute_result"
    }
   ],
   "source": [
    "merged_df_movies.head(20)"
   ]
  },
  {
   "cell_type": "code",
   "execution_count": null,
   "id": "de6465eb-5b87-402f-823c-f77bb38b4911",
   "metadata": {},
   "outputs": [],
   "source": []
  }
 ],
 "metadata": {
  "kernelspec": {
   "display_name": "Python 3 (ipykernel)",
   "language": "python",
   "name": "python3"
  },
  "language_info": {
   "codemirror_mode": {
    "name": "ipython",
    "version": 3
   },
   "file_extension": ".py",
   "mimetype": "text/x-python",
   "name": "python",
   "nbconvert_exporter": "python",
   "pygments_lexer": "ipython3",
   "version": "3.11.3"
  }
 },
 "nbformat": 4,
 "nbformat_minor": 5
}
